{
 "cells": [
  {
   "cell_type": "markdown",
   "id": "e1d197d8",
   "metadata": {},
   "source": [
    "## Initialization"
   ]
  },
  {
   "cell_type": "code",
   "execution_count": 2,
   "id": "ba354e28",
   "metadata": {},
   "outputs": [],
   "source": [
    "# ensure relative imports are correctly imported\n",
    "import sys\n",
    "from configuration import *\n",
    "sys.path.insert(0, '../qcore')\n",
    "\n",
    "# Imports\n",
    "import numpy as np\n",
    "import matplotlib.pyplot as plt\n",
    "from pathlib import Path\n",
    "\n",
    "from qm.QuantumMachinesManager import QuantumMachinesManager\n",
    "from qm.QuantumMachine import QuantumMachine\n",
    "from qm.qua import *\n",
    "\n",
    "from instruments import LabBrick, MetaInstrument, Sa124, Stage, qm_config_builder"
   ]
  },
  {
   "cell_type": "code",
   "execution_count": 3,
   "id": "fd43d19e",
   "metadata": {},
   "outputs": [
    {
     "name": "stdout",
     "output_type": "stream",
     "text": [
      "Trying to initialize lb_qubit\n",
      "Connnected to LabBrick 25331\n",
      "Setting initial parameters...\n",
      "Successfully set frequency to 4.1650000E+09\n",
      "Successfully set power to +15\n",
      "LabBrick is ready to use.\n",
      "Trying to initialize lb_rr\n",
      "Connnected to LabBrick 25335\n",
      "Setting initial parameters...\n",
      "Successfully set frequency to 8.7571000E+09\n",
      "Successfully set power to +13\n",
      "LabBrick is ready to use.\n",
      "Trying to initialize sa, will take about 5s...\n",
      "Connnected to SA124B 19184645\n",
      "Configured sweep! Sweep info: \n",
      "{'start': '7.7501000E+09', 'center': '8.0000000E+09', 'span': '5.000E+08', 'sweep_length': 2500, 'rbw': '2.500E+05', 'ref_power': 0, 'bin_size': '2.000E+05'}\n",
      "2021-05-14 12:27:27,616 - qm - INFO - Performing health check\n",
      "2021-05-14 12:27:27,638 - qm - INFO - Health check passed\n"
     ]
    }
   ],
   "source": [
    "# Staging\n",
    "\n",
    "stage_yaml_file_name = 'stage.yaml'\n",
    "stage_yaml_file_path = Path.cwd() / stage_yaml_file_name\n",
    "\n",
    "stage = Stage.load(stage_yaml_file_path)\n",
    "\n",
    "device = stage.device_A\n",
    "qubit = stage.device_A.qubit\n",
    "rr = stage.device_A.rr\n",
    "lb_qubit = stage.lb_qubit\n",
    "lb_rr = stage.lb_rr\n",
    "sa = stage.sa\n",
    "\n",
    "# start the qm\n",
    "qmm = QuantumMachinesManager()\n",
    "qm = qmm.open_qm(config)"
   ]
  },
  {
   "cell_type": "code",
   "execution_count": 3,
   "id": "210fe374",
   "metadata": {},
   "outputs": [],
   "source": [
    "#lb_qubit.disconnect()\n",
    "#lb_rr.disconnect()\n",
    "#sa.disconnect()"
   ]
  },
  {
   "cell_type": "code",
   "execution_count": 4,
   "id": "015703e7",
   "metadata": {},
   "outputs": [],
   "source": [
    "# We have tuned the IQ mixer according to the tutorial-2-2-SA124B-MixerTuning.ipynb document.\n",
    "# These are key numbers obtained:\n",
    "rr_dcOffsetI = 0.011558358245951837\n",
    "rr_dcOffsetQ = -0.00947436793762317\n",
    "rr_mixerGainCorrection = -0.15430981633780644\n",
    "rr_mixerPhaseCorrection = 0.0212698142172309\n",
    "\n",
    "q_dcOffsetI = -0.0030276985229423627\n",
    "q_dcOffsetQ = -0.009971422329707026\n",
    "q_mixerGainCorrection = -0.19547425898369505\n",
    "q_mixerPhaseCorrection = 0.05154287262922243\n",
    "\n",
    "# after this step we have tuned the IQ mixer.\n",
    "qm.set_output_dc_offset_by_element(\"rr\", \"I\", float(rr_dcOffsetI)) \n",
    "qm.set_output_dc_offset_by_element(\"rr\", \"Q\", float(rr_dcOffsetQ))\n",
    "qm.set_mixer_correction(\"mixer_rr\", rr_IF, rr_LO, IQ_imbalance(rr_mixerGainCorrection, rr_mixerPhaseCorrection))\n",
    "qm.set_output_dc_offset_by_element(\"qubit\", \"I\", float(q_dcOffsetI)) \n",
    "qm.set_output_dc_offset_by_element(\"qubit\", \"Q\", float(q_dcOffsetQ))\n",
    "qm.set_mixer_correction(\"mixer_qubit\", qubit_IF, qubit_LO, IQ_imbalance(rr_mixerGainCorrection, q_mixerPhaseCorrection))"
   ]
  },
  {
   "cell_type": "markdown",
   "id": "f65c1963",
   "metadata": {},
   "source": [
    "## Pulse timing and manipulation"
   ]
  },
  {
   "cell_type": "markdown",
   "id": "02471b36",
   "metadata": {},
   "source": [
    "#### Prototype script"
   ]
  },
  {
   "cell_type": "code",
   "execution_count": 12,
   "id": "8895f243",
   "metadata": {},
   "outputs": [],
   "source": [
    "# QUA script\n",
    "with program() as cw:\n",
    "    with infinite_loop_():\n",
    "        play(\"CW\", \"rr\")\n"
   ]
  },
  {
   "cell_type": "code",
   "execution_count": 6,
   "id": "7b089b67",
   "metadata": {},
   "outputs": [
    {
     "name": "stdout",
     "output_type": "stream",
     "text": [
      "2021-04-24 09:30:32,688 - qm - INFO - Flags: \n",
      "2021-04-24 09:30:32,689 - qm - INFO - Executing high level program\n"
     ]
    }
   ],
   "source": [
    "# Add script to queue\n",
    "#job = qm.queue.add(cw)\n",
    "#job.cancel()"
   ]
  },
  {
   "cell_type": "code",
   "execution_count": 11,
   "id": "8dadf459",
   "metadata": {
    "scrolled": false
   },
   "outputs": [
    {
     "data": {
      "text/plain": [
       "True"
      ]
     },
     "execution_count": 11,
     "metadata": {},
     "output_type": "execute_result"
    }
   ],
   "source": [
    "# Execute script\n",
    "job = qm.execute(cw)\n",
    "#job.halt()"
   ]
  },
  {
   "cell_type": "markdown",
   "id": "d6ee0482",
   "metadata": {},
   "source": [
    "#### Pulse duration\n",
    "The pulse duration can be defined inside the QUA script using either a python or QUA variable int.\n",
    "\n",
    "The duration is given in clock cycles of 4ns. That is, setting a duration = 1000 will play a 4000 ns-long pulse (insert image 3). On the other hand, the duration value as set directly on the config file is in nanoseconds."
   ]
  },
  {
   "cell_type": "code",
   "execution_count": 6,
   "id": "d353b10f",
   "metadata": {},
   "outputs": [],
   "source": [
    "# QUA script\n",
    "with program() as pulse_duration:\n",
    "    \n",
    "    length_rr = declare(int, value = 200)\n",
    "    length_qubit = declare(int, value = 50)\n",
    "    \n",
    "    with infinite_loop_():\n",
    "        play(\"CW\", \"rr\", duration = length_rr)\n",
    "        align(\"rr\", \"qubit\")\n",
    "        play(\"CW\", \"qubit\", duration = length_qubit)\n"
   ]
  },
  {
   "cell_type": "code",
   "execution_count": 9,
   "id": "98494d87",
   "metadata": {
    "scrolled": false
   },
   "outputs": [
    {
     "name": "stdout",
     "output_type": "stream",
     "text": [
      "2021-05-06 15:23:16,893 - qm - INFO - Flags: \n",
      "2021-05-06 15:23:16,894 - qm - INFO - Executing high level program\n"
     ]
    },
    {
     "data": {
      "text/plain": [
       "True"
      ]
     },
     "execution_count": 9,
     "metadata": {},
     "output_type": "execute_result"
    }
   ],
   "source": [
    "# Execute script\n",
    "job = qm.execute(pulse_duration)\n",
    "job.halt()"
   ]
  },
  {
   "cell_type": "markdown",
   "id": "0f5043f4",
   "metadata": {},
   "source": [
    "#### Wait command\n",
    "Similarly to the pulse duration, the wait command also uses clock-cycle units. (insert image 4)"
   ]
  },
  {
   "cell_type": "code",
   "execution_count": 15,
   "id": "0d4a8efe",
   "metadata": {},
   "outputs": [],
   "source": [
    "# QUA script\n",
    "with program() as wait_command:\n",
    "    \n",
    "    length_rr = declare(int, value = 200)\n",
    "    length_qubit = declare(int, value = 50)\n",
    "    wait_time = declare(int, value = 100)\n",
    "    \n",
    "    with infinite_loop_():\n",
    "        play(\"CW\", \"rr\", duration = length_rr)\n",
    "        align(\"rr\", \"qubit\")\n",
    "        play(\"CW\", \"qubit\", duration = length_qubit)\n",
    "        wait(wait_time)\n"
   ]
  },
  {
   "cell_type": "code",
   "execution_count": 16,
   "id": "69fc4d02",
   "metadata": {
    "scrolled": true
   },
   "outputs": [
    {
     "name": "stdout",
     "output_type": "stream",
     "text": [
      "2021-05-06 15:25:05,701 - qm - INFO - Flags: \n",
      "2021-05-06 15:25:05,702 - qm - INFO - Executing high level program\n"
     ]
    },
    {
     "data": {
      "text/plain": [
       "True"
      ]
     },
     "execution_count": 16,
     "metadata": {},
     "output_type": "execute_result"
    }
   ],
   "source": [
    "# Execute script\n",
    "job = qm.execute(wait_command)\n",
    "job.halt()"
   ]
  },
  {
   "cell_type": "markdown",
   "id": "a7594bf1",
   "metadata": {},
   "source": [
    "#### Stretching and compressing arbitrary pulses\n",
    "\n",
    "According to our tests, square pulses can be stretched and compressed in time arbitrarily, limited only by device constraints. \n",
    "\n",
    "Arbitrary pulses, as gaussian pulses, can be effectively stretched in time. QUA does this by interpolating the amplitude values, and thus it must be used with caution.\n",
    "\n",
    "(image 5: 900 ns-long gaussian pulse as defined in config)\n",
    "(image 7: 4000 ns-long gaussian pulse defined w/ duration = 1000)\n",
    "\n",
    "Compressing pulses shows to be much less effective. Setting duration = 125 highly distorts the gaussian shape.\n",
    "(image 8: 500 ns-long gaussian pulse defined w/ duration = 125)"
   ]
  },
  {
   "cell_type": "code",
   "execution_count": 12,
   "id": "51d58365",
   "metadata": {},
   "outputs": [],
   "source": [
    "# QUA script\n",
    "with program() as wait_command:\n",
    "    \n",
    "    length_qubit = declare(int, value = 125)\n",
    "    \n",
    "    with infinite_loop_():\n",
    "        play(\"CW\", \"rr\", duration = 200)\n",
    "        align(\"rr\", \"qubit\")\n",
    "        play(\"gaussian\", \"qubit\", duration = length_qubit)\n",
    "        wait(100)\n"
   ]
  },
  {
   "cell_type": "code",
   "execution_count": 14,
   "id": "df77b0c6",
   "metadata": {
    "scrolled": true
   },
   "outputs": [
    {
     "name": "stdout",
     "output_type": "stream",
     "text": [
      "2021-05-06 15:24:43,947 - qm - INFO - Flags: \n",
      "2021-05-06 15:24:43,947 - qm - INFO - Executing high level program\n"
     ]
    },
    {
     "data": {
      "text/plain": [
       "True"
      ]
     },
     "execution_count": 14,
     "metadata": {},
     "output_type": "execute_result"
    }
   ],
   "source": [
    "# Execute script\n",
    "job = qm.execute(wait_command)\n",
    "job.halt()"
   ]
  },
  {
   "cell_type": "markdown",
   "id": "9f3b1893",
   "metadata": {},
   "source": [
    "## QUA control flow"
   ]
  },
  {
   "cell_type": "markdown",
   "id": "1e04b767",
   "metadata": {},
   "source": [
    "#### for_each_() and for_() loops\n",
    "\n",
    "These are the two QUA loop commands, each having its own structure but having a similar purpose.\n",
    "\n",
    "for_each_() allows one to loop over a arbitrarily-defined list. This list might be either a python or QUA variable."
   ]
  },
  {
   "cell_type": "code",
   "execution_count": 7,
   "id": "3eb5d324",
   "metadata": {},
   "outputs": [
    {
     "data": {
      "text/plain": [
       "{'con1': {'type': 'opx1',\n",
       "  'analog_outputs': {1: {'offset': 0.0},\n",
       "   2: {'offset': 0.0},\n",
       "   3: {'offset': 0.1},\n",
       "   4: {'offset': 0.0},\n",
       "   5: {'offset': 0.0},\n",
       "   6: {'offset': 0.0},\n",
       "   7: {'offset': 0.0},\n",
       "   8: {'offset': 0.0},\n",
       "   9: {'offset': 0.0},\n",
       "   10: {'offset': 0.0}},\n",
       "  'digital_outputs': {},\n",
       "  'analog_inputs': {1: {'offset': 0.0}}}}"
      ]
     },
     "execution_count": 7,
     "metadata": {},
     "output_type": "execute_result"
    }
   ],
   "source": [
    "config['controllers']"
   ]
  },
  {
   "cell_type": "code",
   "execution_count": 5,
   "id": "7dca4df6",
   "metadata": {},
   "outputs": [],
   "source": [
    "# QUA script\n",
    "reps = 100000000\n",
    "with program() as cw:\n",
    "    \n",
    "    # Declares QUA variables\n",
    "    n = declare(int)\n",
    "    \n",
    "    freq = declare(int)\n",
    "    freq_list = declare(int, value = [int(-10e6), int(-50e6), int(-70e6)])\n",
    "    \n",
    "    with for_each_(freq, freq_list):\n",
    "        update_frequency(\"rr\", freq)\n",
    "        with for_(n, 0, n < reps, n + 1):\n",
    "            play(\"CW\", \"rr\", duration = 500)\n",
    "            wait(2000)\n"
   ]
  },
  {
   "cell_type": "code",
   "execution_count": 6,
   "id": "af601d43",
   "metadata": {
    "scrolled": true
   },
   "outputs": [
    {
     "name": "stdout",
     "output_type": "stream",
     "text": [
      "2021-05-14 12:27:44,622 - qm - INFO - Flags: \n",
      "2021-05-14 12:27:44,623 - qm - INFO - Executing high level program\n"
     ]
    }
   ],
   "source": [
    "# Execute script\n",
    "job = qm.execute(cw)\n",
    "#job.halt()"
   ]
  },
  {
   "cell_type": "markdown",
   "id": "9220294b",
   "metadata": {},
   "source": [
    "#### for_each_() loop over multiple arrays\n"
   ]
  },
  {
   "cell_type": "code",
   "execution_count": 44,
   "id": "e4d2798e",
   "metadata": {},
   "outputs": [],
   "source": [
    "# QUA script\n",
    "reps = 500000\n",
    "freq_q_list_py = [int(-10e6), int(-50e6), int(-70e6)]\n",
    "freq_rr_list_py = [int(-10e6), int(-50e6), int(-70e6)]\n",
    "with program() as cw:\n",
    "    \n",
    "    # Declares QUA variables\n",
    "    n = declare(int)\n",
    "    \n",
    "    freq_q = declare(int)\n",
    "    freq_rr = declare(int)\n",
    "    freq_q_list = declare(int, value = freq_q_list_py)\n",
    "    freq_rr_list = declare(int, value = freq_rr_list_py)\n",
    "    \n",
    "    with for_each_((freq_q, freq_rr), (freq_q_list, freq_rr_list)):\n",
    "        update_frequency(\"rr\", freq_rr)\n",
    "        update_frequency(\"qubit\", freq_q)\n",
    "        with for_(n, 0, n < reps, n + 1):\n",
    "            play(\"CW\", \"rr\", duration = 500)\n",
    "            align(\"rr\", \"qubit\")\n",
    "            play(\"CW\", \"qubit\", duration = 100)\n",
    "            wait(2000)\n"
   ]
  },
  {
   "cell_type": "code",
   "execution_count": 45,
   "id": "bedd0533",
   "metadata": {
    "scrolled": false
   },
   "outputs": [
    {
     "name": "stdout",
     "output_type": "stream",
     "text": [
      "2021-05-06 15:36:49,375 - qm - INFO - Flags: \n",
      "2021-05-06 15:36:49,375 - qm - INFO - Executing high level program\n"
     ]
    }
   ],
   "source": [
    "# Execute script\n",
    "job = qm.execute(cw)\n",
    "# job.halt()"
   ]
  },
  {
   "cell_type": "markdown",
   "id": "bcaf81b2",
   "metadata": {},
   "source": [
    "#### Going crazy with nested loops\n",
    "Make sure that the types of python and QUA variables and arrays all match. Sometimes this bugs the script without raising a meaningful error message. Frequencies, durations and wait times are all integers."
   ]
  },
  {
   "cell_type": "code",
   "execution_count": 33,
   "id": "75965335",
   "metadata": {},
   "outputs": [],
   "source": [
    "# QUA script\n",
    "reps = 50000\n",
    "rr_f_vec_py = [int(x) for x in np.linspace(1e6, 50e6, 51)]\n",
    "\n",
    "# All vectors used in the same for_each_ loop must have the same length. \n",
    "# Use np.mesh to create these if needed.\n",
    "rr_a_vec_py = [0.1, 0.1, 0.5, 0.5]\n",
    "qu_a_vec_py = [0.2, 0.3, 0.2, 0.3]\n",
    "wt_vec_py = [20000, 20000, 20000, 20000]\n",
    "\n",
    "with program() as cw:\n",
    "    \n",
    "    # Declares QUA variables\n",
    "    n = declare(int)\n",
    "    rr_f = declare(int)\n",
    "    rr_a = declare(fixed)\n",
    "    qu_a = declare(fixed)\n",
    "    wt = declare(int)\n",
    "\n",
    "    # Arrays for sweeping\n",
    "    rr_f_vec = declare(int, value = rr_f_vec_py)\n",
    "    rr_a_vec = declare(fixed, value = rr_a_vec_py)\n",
    "    qu_a_vec = declare(fixed, value = qu_a_vec_py)\n",
    "    wt_vec = declare(int, value = wt_vec_py)\n",
    "    \n",
    "    with for_(n, 0, n < reps, n + 1):\n",
    "        with for_each_((wt, rr_a, qu_a), (wt_vec, rr_a_vec, qu_a_vec)):\n",
    "            with for_each_(rr_f, rr_f_vec):\n",
    "                update_frequency(\"rr\", rr_f)\n",
    "                play('saturation' * amp(qu_a), 'qubit')\n",
    "                align('qubit', 'rr')\n",
    "                play('CW' * amp(rr_a), 'rr', duration = 500)\n",
    "                wait(wt, \"rr\")"
   ]
  },
  {
   "cell_type": "code",
   "execution_count": 35,
   "id": "e3eff5cf",
   "metadata": {
    "scrolled": true
   },
   "outputs": [
    {
     "name": "stdout",
     "output_type": "stream",
     "text": [
      "2021-05-06 15:32:13,425 - qm - INFO - Flags: \n",
      "2021-05-06 15:32:13,441 - qm - INFO - Executing high level program\n"
     ]
    },
    {
     "data": {
      "text/plain": [
       "True"
      ]
     },
     "execution_count": 35,
     "metadata": {},
     "output_type": "execute_result"
    }
   ],
   "source": [
    "# Execute script\n",
    "job = qm.execute(cw)\n",
    "#job.halt()"
   ]
  },
  {
   "cell_type": "markdown",
   "id": "51f04840",
   "metadata": {},
   "source": [
    "## Stream processing and data structure"
   ]
  },
  {
   "cell_type": "markdown",
   "id": "ad24ead2",
   "metadata": {},
   "source": [
    "#### Saving raw adc data\n",
    "In this example, we will run a single 1000ns-long measurement. After time_of_flight, the OPX will register one voltage value per nanosecond for 1000ns. As we are saving all values with timestamps, the result will be an array of 1000 tuples containing the voltage reading and a timestamp.\n",
    "\n",
    "The raw data is printed below. Notice that the data aquisition lasts as long as the measurement pulse, and that the time is in nanoseconds, not clock cycles. Also, it is very noisy due to low averaging."
   ]
  },
  {
   "cell_type": "code",
   "execution_count": 47,
   "id": "1923dca8",
   "metadata": {},
   "outputs": [
    {
     "name": "stderr",
     "output_type": "stream",
     "text": [
      "<ipython-input-47-f484036dbe86>:5: QMDeprecationWarning: _ResultSource.with_timestamps is deprecated since 0.8: use timestamps() instead to create a stream of timestamps\n",
      "  my_stream1.input1().with_timestamps().save('adc_results')\n"
     ]
    }
   ],
   "source": [
    "with program() as raw_adc:\n",
    "    my_stream1 = declare_stream(adc_trace=True)\n",
    "    measure('long_readout', 'rr', my_stream1)\n",
    "    with stream_processing():\n",
    "        my_stream1.input1().with_timestamps().save('adc_results')\n",
    "        #my_stream1.input1().save('adc_results') # Saving without timestamps"
   ]
  },
  {
   "cell_type": "code",
   "execution_count": 48,
   "id": "48222564",
   "metadata": {
    "scrolled": true
   },
   "outputs": [
    {
     "name": "stdout",
     "output_type": "stream",
     "text": [
      "2021-05-06 15:38:08,717 - qm - INFO - Flags: \n",
      "2021-05-06 15:38:08,717 - qm - INFO - Executing high level program\n"
     ]
    }
   ],
   "source": [
    "# Execute script\n",
    "job = qm.execute(raw_adc)\n",
    "# job.halt()"
   ]
  },
  {
   "cell_type": "code",
   "execution_count": 49,
   "id": "ce4460e8",
   "metadata": {
    "scrolled": true
   },
   "outputs": [
    {
     "name": "stdout",
     "output_type": "stream",
     "text": [
      "shape =  (1000,)\n",
      "\n",
      "(value, timestamp) = \n",
      " [(-66, 1028) (-65, 1029) (-68, 1030) (-73, 1031) (-68, 1032) (-71, 1033)\n",
      " (-70, 1034) (-69, 1035) (-67, 1036) (-67, 1037) (-69, 1038) (-64, 1039)\n",
      " (-66, 1040) (-66, 1041) (-69, 1042) (-69, 1043) (-65, 1044) (-65, 1045)\n",
      " (-68, 1046) (-66, 1047) (-68, 1048) (-68, 1049) (-69, 1050) (-68, 1051)\n",
      " (-62, 1052) (-71, 1053) (-69, 1054) (-66, 1055) (-65, 1056) (-67, 1057)\n",
      " (-64, 1058) (-66, 1059) (-70, 1060) (-70, 1061) (-61, 1062) (-64, 1063)\n",
      " (-63, 1064) (-66, 1065) (-68, 1066) (-68, 1067) (-68, 1068) (-68, 1069)\n",
      " (-64, 1070) (-66, 1071) (-69, 1072) (-68, 1073) (-66, 1074) (-68, 1075)\n",
      " (-65, 1076) (-65, 1077) (-68, 1078) (-70, 1079) (-67, 1080) (-65, 1081)\n",
      " (-68, 1082) (-68, 1083) (-65, 1084) (-70, 1085) (-70, 1086) (-65, 1087)\n",
      " (-66, 1088) (-64, 1089) (-63, 1090) (-68, 1091) (-64, 1092) (-66, 1093)\n",
      " (-70, 1094) (-72, 1095) (-63, 1096) (-64, 1097) (-68, 1098) (-66, 1099)\n",
      " (-67, 1100) (-73, 1101) (-67, 1102) (-64, 1103) (-65, 1104) (-69, 1105)\n",
      " (-65, 1106) (-60, 1107) (-61, 1108) (-67, 1109) (-65, 1110) (-66, 1111)\n",
      " (-67, 1112) (-66, 1113) (-65, 1114) (-66, 1115) (-65, 1116) (-65, 1117)\n",
      " (-64, 1118) (-63, 1119) (-69, 1120) (-68, 1121) (-66, 1122) (-64, 1123)\n",
      " (-65, 1124) (-65, 1125) (-65, 1126) (-64, 1127) (-60, 1128) (-66, 1129)\n",
      " (-67, 1130) (-68, 1131) (-60, 1132) (-64, 1133) (-64, 1134) (-66, 1135)\n",
      " (-63, 1136) (-66, 1137) (-65, 1138) (-65, 1139) (-63, 1140) (-63, 1141)\n",
      " (-69, 1142) (-64, 1143) (-65, 1144) (-66, 1145) (-66, 1146) (-61, 1147)\n",
      " (-66, 1148) (-67, 1149) (-59, 1150) (-61, 1151) (-66, 1152) (-67, 1153)\n",
      " (-67, 1154) (-65, 1155) (-61, 1156) (-65, 1157) (-67, 1158) (-68, 1159)\n",
      " (-61, 1160) (-65, 1161) (-67, 1162) (-66, 1163) (-64, 1164) (-61, 1165)\n",
      " (-63, 1166) (-65, 1167) (-62, 1168) (-65, 1169) (-67, 1170) (-64, 1171)\n",
      " (-61, 1172) (-64, 1173) (-63, 1174) (-66, 1175) (-68, 1176) (-66, 1177)\n",
      " (-64, 1178) (-66, 1179) (-64, 1180) (-65, 1181) (-61, 1182) (-65, 1183)\n",
      " (-66, 1184) (-59, 1185) (-66, 1186) (-66, 1187) (-63, 1188) (-64, 1189)\n",
      " (-63, 1190) (-59, 1191) (-62, 1192) (-61, 1193) (-62, 1194) (-65, 1195)\n",
      " (-64, 1196) (-64, 1197) (-57, 1198) (-58, 1199) (-62, 1200) (-63, 1201)\n",
      " (-69, 1202) (-64, 1203) (-60, 1204) (-61, 1205) (-61, 1206) (-62, 1207)\n",
      " (-63, 1208) (-70, 1209) (-64, 1210) (-64, 1211) (-68, 1212) (-64, 1213)\n",
      " (-63, 1214) (-65, 1215) (-64, 1216) (-63, 1217) (-56, 1218) (-61, 1219)\n",
      " (-62, 1220) (-63, 1221) (-59, 1222) (-69, 1223) (-66, 1224) (-66, 1225)\n",
      " (-62, 1226) (-62, 1227) (-65, 1228) (-62, 1229) (-61, 1230) (-60, 1231)\n",
      " (-64, 1232) (-58, 1233) (-60, 1234) (-60, 1235) (-62, 1236) (-63, 1237)\n",
      " (-65, 1238) (-66, 1239) (-67, 1240) (-62, 1241) (-63, 1242) (-68, 1243)\n",
      " (-63, 1244) (-64, 1245) (-64, 1246) (-64, 1247) (-64, 1248) (-64, 1249)\n",
      " (-68, 1250) (-64, 1251) (-61, 1252) (-67, 1253) (-67, 1254) (-68, 1255)\n",
      " (-64, 1256) (-65, 1257) (-64, 1258) (-67, 1259) (-64, 1260) (-64, 1261)\n",
      " (-63, 1262) (-64, 1263) (-67, 1264) (-66, 1265) (-63, 1266) (-64, 1267)\n",
      " (-68, 1268) (-69, 1269) (-66, 1270) (-65, 1271) (-62, 1272) (-64, 1273)\n",
      " (-62, 1274) (-66, 1275) (-63, 1276) (-64, 1277) (-64, 1278) (-63, 1279)\n",
      " (-65, 1280) (-64, 1281) (-63, 1282) (-66, 1283) (-69, 1284) (-68, 1285)\n",
      " (-64, 1286) (-68, 1287) (-64, 1288) (-64, 1289) (-65, 1290) (-65, 1291)\n",
      " (-65, 1292) (-65, 1293) (-65, 1294) (-63, 1295) (-64, 1296) (-63, 1297)\n",
      " (-66, 1298) (-69, 1299) (-66, 1300) (-65, 1301) (-66, 1302) (-65, 1303)\n",
      " (-66, 1304) (-64, 1305) (-66, 1306) (-71, 1307) (-67, 1308) (-66, 1309)\n",
      " (-70, 1310) (-67, 1311) (-69, 1312) (-69, 1313) (-63, 1314) (-66, 1315)\n",
      " (-63, 1316) (-64, 1317) (-66, 1318) (-64, 1319) (-61, 1320) (-60, 1321)\n",
      " (-66, 1322) (-69, 1323) (-68, 1324) (-69, 1325) (-66, 1326) (-68, 1327)\n",
      " (-67, 1328) (-68, 1329) (-68, 1330) (-72, 1331) (-67, 1332) (-66, 1333)\n",
      " (-67, 1334) (-66, 1335) (-63, 1336) (-65, 1337) (-68, 1338) (-67, 1339)\n",
      " (-66, 1340) (-71, 1341) (-68, 1342) (-69, 1343) (-73, 1344) (-71, 1345)\n",
      " (-64, 1346) (-66, 1347) (-66, 1348) (-67, 1349) (-70, 1350) (-70, 1351)\n",
      " (-68, 1352) (-68, 1353) (-71, 1354) (-64, 1355) (-66, 1356) (-66, 1357)\n",
      " (-67, 1358) (-69, 1359) (-70, 1360) (-70, 1361) (-65, 1362) (-70, 1363)\n",
      " (-68, 1364) (-65, 1365) (-66, 1366) (-69, 1367) (-73, 1368) (-66, 1369)\n",
      " (-66, 1370) (-69, 1371) (-64, 1372) (-64, 1373) (-69, 1374) (-67, 1375)\n",
      " (-71, 1376) (-68, 1377) (-71, 1378) (-66, 1379) (-66, 1380) (-70, 1381)\n",
      " (-69, 1382) (-71, 1383) (-70, 1384) (-70, 1385) (-69, 1386) (-65, 1387)\n",
      " (-66, 1388) (-66, 1389) (-69, 1390) (-68, 1391) (-67, 1392) (-63, 1393)\n",
      " (-64, 1394) (-67, 1395) (-69, 1396) (-71, 1397) (-72, 1398) (-71, 1399)\n",
      " (-68, 1400) (-70, 1401) (-64, 1402) (-69, 1403) (-70, 1404) (-71, 1405)\n",
      " (-72, 1406) (-69, 1407) (-70, 1408) (-73, 1409) (-75, 1410) (-67, 1411)\n",
      " (-67, 1412) (-64, 1413) (-67, 1414) (-68, 1415) (-70, 1416) (-69, 1417)\n",
      " (-70, 1418) (-69, 1419) (-67, 1420) (-66, 1421) (-68, 1422) (-71, 1423)\n",
      " (-63, 1424) (-67, 1425) (-71, 1426) (-68, 1427) (-70, 1428) (-69, 1429)\n",
      " (-68, 1430) (-67, 1431) (-67, 1432) (-69, 1433) (-67, 1434) (-68, 1435)\n",
      " (-71, 1436) (-71, 1437) (-64, 1438) (-64, 1439) (-66, 1440) (-68, 1441)\n",
      " (-71, 1442) (-71, 1443) (-68, 1444) (-71, 1445) (-68, 1446) (-64, 1447)\n",
      " (-61, 1448) (-66, 1449) (-68, 1450) (-66, 1451) (-67, 1452) (-67, 1453)\n",
      " (-68, 1454) (-67, 1455) (-67, 1456) (-71, 1457) (-69, 1458) (-70, 1459)\n",
      " (-68, 1460) (-68, 1461) (-70, 1462) (-71, 1463) (-68, 1464) (-66, 1465)\n",
      " (-66, 1466) (-67, 1467) (-66, 1468) (-68, 1469) (-68, 1470) (-66, 1471)\n",
      " (-73, 1472) (-67, 1473) (-70, 1474) (-68, 1475) (-70, 1476) (-65, 1477)\n",
      " (-68, 1478) (-68, 1479) (-68, 1480) (-65, 1481) (-68, 1482) (-69, 1483)\n",
      " (-69, 1484) (-67, 1485) (-67, 1486) (-71, 1487) (-70, 1488) (-66, 1489)\n",
      " (-64, 1490) (-69, 1491) (-70, 1492) (-63, 1493) (-66, 1494) (-73, 1495)\n",
      " (-74, 1496) (-66, 1497) (-66, 1498) (-66, 1499) (-69, 1500) (-70, 1501)\n",
      " (-66, 1502) (-64, 1503) (-66, 1504) (-68, 1505) (-68, 1506) (-68, 1507)\n",
      " (-67, 1508) (-67, 1509) (-69, 1510) (-72, 1511) (-69, 1512) (-68, 1513)\n",
      " (-65, 1514) (-69, 1515) (-66, 1516) (-66, 1517) (-64, 1518) (-68, 1519)\n",
      " (-66, 1520) (-68, 1521) (-70, 1522) (-70, 1523) (-67, 1524) (-66, 1525)\n",
      " (-66, 1526) (-71, 1527) (-71, 1528) (-72, 1529) (-69, 1530) (-68, 1531)\n",
      " (-69, 1532) (-64, 1533) (-67, 1534) (-66, 1535) (-67, 1536) (-65, 1537)\n",
      " (-69, 1538) (-69, 1539) (-66, 1540) (-67, 1541) (-70, 1542) (-67, 1543)\n",
      " (-68, 1544) (-65, 1545) (-68, 1546) (-68, 1547) (-72, 1548) (-71, 1549)\n",
      " (-69, 1550) (-68, 1551) (-66, 1552) (-71, 1553) (-68, 1554) (-64, 1555)\n",
      " (-64, 1556) (-64, 1557) (-67, 1558) (-67, 1559) (-63, 1560) (-64, 1561)\n",
      " (-64, 1562) (-68, 1563) (-68, 1564) (-64, 1565) (-66, 1566) (-71, 1567)\n",
      " (-70, 1568) (-68, 1569) (-65, 1570) (-69, 1571) (-65, 1572) (-64, 1573)\n",
      " (-66, 1574) (-68, 1575) (-69, 1576) (-68, 1577) (-69, 1578) (-63, 1579)\n",
      " (-65, 1580) (-69, 1581) (-68, 1582) (-65, 1583) (-66, 1584) (-64, 1585)\n",
      " (-63, 1586) (-64, 1587) (-63, 1588) (-65, 1589) (-65, 1590) (-61, 1591)\n",
      " (-63, 1592) (-64, 1593) (-64, 1594) (-66, 1595) (-67, 1596) (-66, 1597)\n",
      " (-64, 1598) (-69, 1599) (-66, 1600) (-67, 1601) (-69, 1602) (-63, 1603)\n",
      " (-64, 1604) (-62, 1605) (-68, 1606) (-67, 1607) (-66, 1608) (-69, 1609)\n",
      " (-64, 1610) (-64, 1611) (-67, 1612) (-66, 1613) (-64, 1614) (-63, 1615)\n",
      " (-61, 1616) (-62, 1617) (-63, 1618) (-63, 1619) (-58, 1620) (-67, 1621)\n",
      " (-67, 1622) (-66, 1623) (-65, 1624) (-62, 1625) (-65, 1626) (-67, 1627)\n",
      " (-68, 1628) (-66, 1629) (-69, 1630) (-66, 1631) (-65, 1632) (-68, 1633)\n",
      " (-61, 1634) (-62, 1635) (-68, 1636) (-61, 1637) (-67, 1638) (-67, 1639)\n",
      " (-61, 1640) (-66, 1641) (-67, 1642) (-64, 1643) (-64, 1644) (-66, 1645)\n",
      " (-64, 1646) (-64, 1647) (-64, 1648) (-65, 1649) (-62, 1650) (-63, 1651)\n",
      " (-62, 1652) (-60, 1653) (-59, 1654) (-61, 1655) (-66, 1656) (-66, 1657)\n",
      " (-63, 1658) (-62, 1659) (-65, 1660) (-64, 1661) (-68, 1662) (-66, 1663)\n",
      " (-66, 1664) (-66, 1665) (-64, 1666) (-64, 1667) (-62, 1668) (-66, 1669)\n",
      " (-64, 1670) (-68, 1671) (-67, 1672) (-63, 1673) (-60, 1674) (-66, 1675)\n",
      " (-68, 1676) (-62, 1677) (-63, 1678) (-67, 1679) (-62, 1680) (-66, 1681)\n",
      " (-68, 1682) (-65, 1683) (-65, 1684) (-64, 1685) (-64, 1686) (-64, 1687)\n",
      " (-63, 1688) (-63, 1689) (-66, 1690) (-65, 1691) (-68, 1692) (-68, 1693)\n",
      " (-61, 1694) (-64, 1695) (-63, 1696) (-70, 1697) (-69, 1698) (-64, 1699)\n",
      " (-64, 1700) (-62, 1701) (-65, 1702) (-64, 1703) (-63, 1704) (-65, 1705)\n",
      " (-66, 1706) (-64, 1707) (-64, 1708) (-66, 1709) (-66, 1710) (-66, 1711)\n",
      " (-66, 1712) (-65, 1713) (-66, 1714) (-66, 1715) (-68, 1716) (-67, 1717)\n",
      " (-67, 1718) (-68, 1719) (-67, 1720) (-66, 1721) (-68, 1722) (-65, 1723)\n",
      " (-64, 1724) (-67, 1725) (-65, 1726) (-60, 1727) (-64, 1728) (-66, 1729)\n",
      " (-66, 1730) (-67, 1731) (-64, 1732) (-64, 1733) (-65, 1734) (-64, 1735)\n",
      " (-62, 1736) (-63, 1737) (-66, 1738) (-63, 1739) (-62, 1740) (-66, 1741)\n",
      " (-67, 1742) (-68, 1743) (-65, 1744) (-65, 1745) (-64, 1746) (-64, 1747)\n",
      " (-64, 1748) (-64, 1749) (-65, 1750) (-66, 1751) (-68, 1752) (-66, 1753)\n",
      " (-64, 1754) (-63, 1755) (-64, 1756) (-62, 1757) (-64, 1758) (-64, 1759)\n",
      " (-64, 1760) (-64, 1761) (-66, 1762) (-67, 1763) (-67, 1764) (-64, 1765)\n",
      " (-62, 1766) (-63, 1767) (-66, 1768) (-66, 1769) (-68, 1770) (-64, 1771)\n",
      " (-63, 1772) (-66, 1773) (-64, 1774) (-66, 1775) (-65, 1776) (-67, 1777)\n",
      " (-69, 1778) (-67, 1779) (-68, 1780) (-66, 1781) (-67, 1782) (-68, 1783)\n",
      " (-67, 1784) (-64, 1785) (-64, 1786) (-65, 1787) (-66, 1788) (-65, 1789)\n",
      " (-67, 1790) (-64, 1791) (-65, 1792) (-63, 1793) (-62, 1794) (-67, 1795)\n",
      " (-68, 1796) (-63, 1797) (-66, 1798) (-68, 1799) (-68, 1800) (-62, 1801)\n",
      " (-64, 1802) (-67, 1803) (-67, 1804) (-62, 1805) (-64, 1806) (-66, 1807)\n",
      " (-66, 1808) (-66, 1809) (-68, 1810) (-68, 1811) (-63, 1812) (-67, 1813)\n",
      " (-64, 1814) (-64, 1815) (-64, 1816) (-59, 1817) (-62, 1818) (-64, 1819)\n",
      " (-64, 1820) (-62, 1821) (-62, 1822) (-69, 1823) (-65, 1824) (-63, 1825)\n",
      " (-64, 1826) (-66, 1827) (-64, 1828) (-67, 1829) (-64, 1830) (-64, 1831)\n",
      " (-62, 1832) (-67, 1833) (-64, 1834) (-66, 1835) (-63, 1836) (-67, 1837)\n",
      " (-65, 1838) (-65, 1839) (-66, 1840) (-61, 1841) (-65, 1842) (-67, 1843)\n",
      " (-67, 1844) (-66, 1845) (-68, 1846) (-65, 1847) (-66, 1848) (-65, 1849)\n",
      " (-67, 1850) (-66, 1851) (-62, 1852) (-62, 1853) (-62, 1854) (-64, 1855)\n",
      " (-66, 1856) (-67, 1857) (-64, 1858) (-66, 1859) (-65, 1860) (-65, 1861)\n",
      " (-66, 1862) (-61, 1863) (-60, 1864) (-62, 1865) (-68, 1866) (-66, 1867)\n",
      " (-64, 1868) (-66, 1869) (-63, 1870) (-66, 1871) (-71, 1872) (-65, 1873)\n",
      " (-62, 1874) (-65, 1875) (-64, 1876) (-64, 1877) (-63, 1878) (-64, 1879)\n",
      " (-64, 1880) (-61, 1881) (-69, 1882) (-66, 1883) (-62, 1884) (-65, 1885)\n",
      " (-64, 1886) (-62, 1887) (-57, 1888) (-60, 1889) (-61, 1890) (-68, 1891)\n",
      " (-66, 1892) (-66, 1893) (-66, 1894) (-63, 1895) (-63, 1896) (-63, 1897)\n",
      " (-64, 1898) (-65, 1899) (-67, 1900) (-64, 1901) (-66, 1902) (-63, 1903)\n",
      " (-64, 1904) (-66, 1905) (-64, 1906) (-66, 1907) (-70, 1908) (-66, 1909)\n",
      " (-66, 1910) (-64, 1911) (-68, 1912) (-64, 1913) (-67, 1914) (-64, 1915)\n",
      " (-62, 1916) (-65, 1917) (-63, 1918) (-65, 1919) (-64, 1920) (-63, 1921)\n",
      " (-64, 1922) (-65, 1923) (-66, 1924) (-58, 1925) (-66, 1926) (-67, 1927)\n",
      " (-64, 1928) (-66, 1929) (-67, 1930) (-66, 1931) (-64, 1932) (-64, 1933)\n",
      " (-65, 1934) (-65, 1935) (-65, 1936) (-68, 1937) (-67, 1938) (-61, 1939)\n",
      " (-66, 1940) (-66, 1941) (-66, 1942) (-65, 1943) (-65, 1944) (-69, 1945)\n",
      " (-68, 1946) (-67, 1947) (-70, 1948) (-66, 1949) (-65, 1950) (-66, 1951)\n",
      " (-69, 1952) (-70, 1953) (-66, 1954) (-69, 1955) (-68, 1956) (-65, 1957)\n",
      " (-64, 1958) (-66, 1959) (-68, 1960) (-69, 1961) (-65, 1962) (-67, 1963)\n",
      " (-67, 1964) (-61, 1965) (-71, 1966) (-70, 1967) (-65, 1968) (-65, 1969)\n",
      " (-69, 1970) (-71, 1971) (-67, 1972) (-64, 1973) (-66, 1974) (-63, 1975)\n",
      " (-65, 1976) (-64, 1977) (-66, 1978) (-68, 1979) (-64, 1980) (-67, 1981)\n",
      " (-67, 1982) (-66, 1983) (-68, 1984) (-68, 1985) (-65, 1986) (-69, 1987)\n",
      " (-68, 1988) (-67, 1989) (-67, 1990) (-65, 1991) (-66, 1992) (-63, 1993)\n",
      " (-65, 1994) (-68, 1995) (-71, 1996) (-71, 1997) (-69, 1998) (-73, 1999)\n",
      " (-69, 2000) (-68, 2001) (-71, 2002) (-69, 2003) (-69, 2004) (-70, 2005)\n",
      " (-68, 2006) (-67, 2007) (-65, 2008) (-69, 2009) (-71, 2010) (-67, 2011)\n",
      " (-72, 2012) (-69, 2013) (-66, 2014) (-66, 2015) (-71, 2016) (-69, 2017)\n",
      " (-68, 2018) (-69, 2019) (-71, 2020) (-70, 2021) (-69, 2022) (-68, 2023)\n",
      " (-68, 2024) (-71, 2025) (-66, 2026) (-69, 2027)]\n"
     ]
    }
   ],
   "source": [
    "# print results saved in adc_results\n",
    "results = job.result_handles.get('adc_results').fetch_all()\n",
    "print('shape = ', results.shape)\n",
    "print('\\n(value, timestamp) = \\n', results)"
   ]
  },
  {
   "cell_type": "code",
   "execution_count": 50,
   "id": "d6aed54e",
   "metadata": {
    "scrolled": true
   },
   "outputs": [
    {
     "data": {
      "text/plain": [
       "[<matplotlib.lines.Line2D at 0x14bb876a580>]"
      ]
     },
     "execution_count": 50,
     "metadata": {},
     "output_type": "execute_result"
    },
    {
     "data": {
      "image/png": "[encoded data removed]",
      "text/plain": [
       "<Figure size 1008x360 with 1 Axes>"
      ]
     },
     "metadata": {
      "needs_background": "light"
     },
     "output_type": "display_data"
    }
   ],
   "source": [
    "# Division by 2**12 is necessary to convert ADC data to volts.\n",
    "plt.figure(figsize = (14,5))\n",
    "plt.plot([x[0]/2**12 for x in results])"
   ]
  },
  {
   "cell_type": "markdown",
   "id": "24d06db9",
   "metadata": {},
   "source": [
    "#### Averaging\n",
    "Let us repeat this experiment 30k times. \n",
    "\n",
    "The .average() command was added to stream processing, and it automatically divides the data into chunks of 1000ns and average them (no buffering is needed).\n",
    "\n",
    "For averaging raw data, it is also necessary to use reset_phase() so that the pulses can sum up coherently.\n",
    "\n",
    "A wait command of 20k clock cycles is included between every repetition so the cavity has enough time to relax to its initial condition.\n",
    "\n",
    "FFT of the data is saved using the .fft() command.\n",
    "\n",
    "Not adding .average() will result in only one repetition being output to the results (probably because .save() only saves the latest result. Maybe using save_all would allow accessing all runs individually).\n",
    "\n",
    "Not sure if this can be done with timestamps."
   ]
  },
  {
   "cell_type": "code",
   "execution_count": 51,
   "id": "8bf5441e",
   "metadata": {},
   "outputs": [],
   "source": [
    "reps = 100000\n",
    "with program() as raw_adc_avg:\n",
    "    my_stream1 = declare_stream(adc_trace=True)\n",
    "    n = declare(int)\n",
    "    \n",
    "    with for_(n, 0, n < reps, n + 1):\n",
    "        reset_phase(\"rr\")\n",
    "        measure('long_readout'*amp(1.), 'rr', my_stream1)\n",
    "        wait(20000, \"rr\")\n",
    "        \n",
    "    with stream_processing():\n",
    "        my_stream1.input1().average().save('adc_results')\n",
    "        my_stream1.input1().average().fft().save('adc_fft')"
   ]
  },
  {
   "cell_type": "code",
   "execution_count": 52,
   "id": "31addffc",
   "metadata": {
    "scrolled": true
   },
   "outputs": [
    {
     "name": "stdout",
     "output_type": "stream",
     "text": [
      "2021-05-06 15:38:29,598 - qm - INFO - Flags: \n",
      "2021-05-06 15:38:29,599 - qm - INFO - Executing high level program\n"
     ]
    }
   ],
   "source": [
    "# Execute script\n",
    "job = qm.execute(raw_adc_avg)\n",
    "#job.halt()"
   ]
  },
  {
   "cell_type": "code",
   "execution_count": 54,
   "id": "a5ee1815",
   "metadata": {
    "scrolled": true
   },
   "outputs": [
    {
     "name": "stdout",
     "output_type": "stream",
     "text": [
      "shape =  (1000,)\n",
      "\n",
      "(value, timestamp) = \n",
      " [-66.2270781  -66.21906836 -66.22855455 -66.20928687 -66.20083419\n",
      " -66.20537428 -66.18252621 -66.16945962 -66.15019194 -66.16934889\n",
      " -66.1477558  -66.12970619 -66.12439096 -66.11601211 -66.13509523\n",
      " -66.14568876 -66.16765097 -66.16296324 -66.15447365 -66.17713716\n",
      " -66.22161524 -66.20862247 -66.2133102  -66.23490329 -66.25199321\n",
      " -66.23150746 -66.20648162 -66.17938875 -66.18145578 -66.14292042\n",
      " -66.14007825 -66.13398789 -66.12948472 -66.11224716 -66.12970619\n",
      " -66.1752916  -66.16735568 -66.15451056 -66.18621733 -66.18680791\n",
      " -66.20124022 -66.20906541 -66.22848073 -66.22493725 -66.22656135\n",
      " -66.20932379 -66.21308873 -66.19802894 -66.17577145 -66.17610365\n",
      " -66.16111767 -66.15598701 -66.15041341 -66.11176731 -66.11472021\n",
      " -66.12612579 -66.17126827 -66.19769674 -66.1802008  -66.19540824\n",
      " -66.18271076 -66.20386092 -66.23663812 -66.24339288 -66.24564447\n",
      " -66.22689355 -66.25372804 -66.23837295 -66.22390374 -66.19337812\n",
      " -66.19459619 -66.17481175 -66.15019194 -66.14085339 -66.12560904\n",
      " -66.10128451 -66.13590728 -66.1536616  -66.18485162 -66.17499631\n",
      " -66.16621143 -66.17695261 -66.23364831 -66.20434076 -66.23785619\n",
      " -66.20947143 -66.19208622 -66.20566957 -66.20172006 -66.20515281\n",
      " -66.18791525 -66.17492249 -66.15893991 -66.15380924 -66.14686992\n",
      " -66.13420936 -66.13579655 -66.14443378 -66.18392884 -66.16019489\n",
      " -66.19577735 -66.20286431 -66.21449136 -66.23896353 -66.23671194\n",
      " -66.2277056  -66.2313229  -66.18983464 -66.19123727 -66.21644766\n",
      " -66.1903514  -66.1733353  -66.18857965 -66.15458438 -66.15816477\n",
      " -66.16521482 -66.16259412 -66.15395689 -66.15059796 -66.15742655\n",
      " -66.18499926 -66.16672819 -66.17477484 -66.20046508 -66.234608\n",
      " -66.21312565 -66.2146021  -66.21737044 -66.22113539 -66.20810571\n",
      " -66.21024657 -66.20714602 -66.1998745  -66.16303706 -66.1625203\n",
      " -66.16167134 -66.19001919 -66.16019489 -66.17093607 -66.143511\n",
      " -66.16953344 -66.1841503  -66.20330725 -66.19112653 -66.20175698\n",
      " -66.21733353 -66.2342758  -66.20035435 -66.21061568 -66.2110217\n",
      " -66.22290713 -66.19983759 -66.18809981 -66.19747527 -66.17997933\n",
      " -66.17927802 -66.18706629 -66.17946257 -66.17359368 -66.16621143\n",
      " -66.17588218 -66.16355382 -66.19186476 -66.16359073 -66.17451646\n",
      " -66.18640189 -66.20467297 -66.22984645 -66.20618633 -66.1992101\n",
      " -66.21338402 -66.19847187 -66.19928392 -66.18743541 -66.19046213\n",
      " -66.17865052 -66.1838181  -66.17381515 -66.19633102 -66.16587923\n",
      " -66.15868153 -66.17477484 -66.19514986 -66.1726709  -66.18898568\n",
      " -66.17385206 -66.19426399 -66.18060682 -66.20382401 -66.21585708\n",
      " -66.22131995 -66.20633397 -66.19245534 -66.18917023 -66.19673704\n",
      " -66.20817954 -66.19020375 -66.17983168 -66.18285841 -66.16993947\n",
      " -66.1621881  -66.17802303 -66.19865643 -66.16949653 -66.16750332\n",
      " -66.15373542 -66.16436586 -66.17602982 -66.16912742 -66.16362764\n",
      " -66.16831537 -66.17909346 -66.19932083 -66.20271667 -66.22353462\n",
      " -66.20024361 -66.17536542 -66.20943452 -66.19651558 -66.1752916\n",
      " -66.19031448 -66.15746346 -66.18758305 -66.16192972 -66.14044736\n",
      " -66.1569467  -66.18307988 -66.17414735 -66.18090211 -66.18488853\n",
      " -66.19227078 -66.19695851 -66.18529455 -66.1775801  -66.20090802\n",
      " -66.21515577 -66.20434076 -66.19825041 -66.20685073 -66.1615237\n",
      " -66.16211428 -66.18355972 -66.16728185 -66.15318175 -66.15473202\n",
      " -66.1195925  -66.138934   -66.14328953 -66.14949062 -66.14971209\n",
      " -66.15746346 -66.15262808 -66.16503027 -66.17750627 -66.19186476\n",
      " -66.21301491 -66.21124317 -66.19684778 -66.22582312 -66.19736454\n",
      " -66.22427285 -66.19478075 -66.19352576 -66.16322162 -66.17222796\n",
      " -66.15296028 -66.17422117 -66.13756829 -66.14686992 -66.15598701\n",
      " -66.14871549 -66.14044736 -66.17680496 -66.18581131 -66.20090802\n",
      " -66.2110217  -66.21607855 -66.21268271 -66.22486343 -66.20293814\n",
      " -66.20345489 -66.19909937 -66.17130518 -66.16853684 -66.16923815\n",
      " -66.16229883 -66.14184999 -66.15303411 -66.15277573 -66.11442492\n",
      " -66.14834638 -66.16499336 -66.16639598 -66.17994242 -66.21072641\n",
      " -66.20050199 -66.19622029 -66.2077366  -66.19647867 -66.2155987\n",
      " -66.24276539 -66.22124612 -66.21286727 -66.19588809 -66.20397165\n",
      " -66.15572863 -66.17141592 -66.16824155 -66.16159752 -66.16163443\n",
      " -66.16879522 -66.18068064 -66.1527019  -66.17853979 -66.20426694\n",
      " -66.21622619 -66.20423003 -66.20736749 -66.21157537 -66.21762882\n",
      " -66.24342979 -66.23996014 -66.2211723  -66.20389783 -66.18570058\n",
      " -66.16215119 -66.16702348 -66.16702348 -66.15373542 -66.13852798\n",
      " -66.14306806 -66.14343718 -66.16355382 -66.16691274 -66.1674295\n",
      " -66.15735272 -66.18894877 -66.22589694 -66.21807176 -66.2388528\n",
      " -66.22552783 -66.23043703 -66.2490034  -66.22818544 -66.22737339\n",
      " -66.21201831 -66.19271372 -66.16226192 -66.16473498 -66.15233279\n",
      " -66.16026871 -66.18551602 -66.19577735 -66.14406467 -66.16344308\n",
      " -66.18695556 -66.22733648 -66.22338698 -66.22257493 -66.22438358\n",
      " -66.22737339 -66.22549092 -66.21666913 -66.21803484 -66.23457109\n",
      " -66.21006201 -66.1621881  -66.18031153 -66.16410749 -66.13657168\n",
      " -66.13594419 -66.12258231 -66.13967223 -66.15229588 -66.1644766\n",
      " -66.16783552 -66.18127122 -66.16665436 -66.23457109 -66.24239628\n",
      " -66.24154732 -66.22999409 -66.2418057  -66.22988336 -66.22231655\n",
      " -66.20810571 -66.20419312 -66.21958512 -66.18621733 -66.19946848\n",
      " -66.18950244 -66.15524878 -66.19079433 -66.18809981 -66.18953935\n",
      " -66.19072051 -66.20769969 -66.16779861 -66.22239037 -66.20703529\n",
      " -66.22947734 -66.21773955 -66.2185516  -66.2165953  -66.22382991\n",
      " -66.21814558 -66.19777056 -66.20345489 -66.18695556 -66.15657759\n",
      " -66.13343422 -66.16724494 -66.1838181  -66.16303706 -66.18791525\n",
      " -66.18599587 -66.20024361 -66.18761996 -66.20426694 -66.19060977\n",
      " -66.19891481 -66.20441459 -66.19773365 -66.21899454 -66.21157537\n",
      " -66.21353167 -66.22633988 -66.2152665  -66.2270781  -66.23870515\n",
      " -66.23047394 -66.19895172 -66.21375314 -66.1798686  -66.14860475\n",
      " -66.12638417 -66.12955854 -66.12033072 -66.12656873 -66.13062897\n",
      " -66.1690536  -66.19562971 -66.22811162 -66.24863428 -66.25874797\n",
      " -66.26111029 -66.26838181 -66.25077514 -66.24047689 -66.19869334\n",
      " -66.18625424 -66.13778975 -66.1398937  -66.09560018 -66.12431714\n",
      " -66.11678724 -66.13018603 -66.16362764 -66.20581722 -66.20670309\n",
      " -66.22652444 -66.22456814 -66.22718884 -66.24339288 -66.23929573\n",
      " -66.24520154 -66.21652148 -66.20050199 -66.20323343 -66.21279344\n",
      " -66.22209508 -66.17617747 -66.17735863 -66.18389192 -66.15251735\n",
      " -66.14550421 -66.13118264 -66.16281559 -66.19419017 -66.17750627\n",
      " -66.20459914 -66.22910822 -66.20829027 -66.21094788 -66.22848073\n",
      " -66.23634283 -66.22290713 -66.19193858 -66.22733648 -66.18976082\n",
      " -66.17211723 -66.1527019  -66.17252325 -66.12560904 -66.16591614\n",
      " -66.16093312 -66.16233574 -66.15284955 -66.16875831 -66.19012993\n",
      " -66.20131404 -66.19526059 -66.2106895  -66.22264875 -66.21006201\n",
      " -66.21349476 -66.21301491 -66.21630001 -66.23324229 -66.25690241\n",
      " -66.24767459 -66.20131404 -66.21319947 -66.20190462 -66.15934593\n",
      " -66.16768788 -66.17817068 -66.14376938 -66.15251735 -66.15329248\n",
      " -66.1943009  -66.20703529 -66.20297505 -66.21275653 -66.22202126\n",
      " -66.24265466 -66.2365643  -66.21375314 -66.21105862 -66.19943157\n",
      " -66.19352576 -66.17879817 -66.1621881  -66.14343718 -66.15591318\n",
      " -66.14469216 -66.16407057 -66.16200354 -66.18167725 -66.18429795\n",
      " -66.2198435  -66.2011664  -66.23571534 -66.22386682 -66.24202717\n",
      " -66.25642256 -66.25180865 -66.25313746 -66.19873025 -66.19843496\n",
      " -66.20005906 -66.1785767  -66.17363059 -66.16702348 -66.1641444\n",
      " -66.15041341 -66.16388602 -66.16576849 -66.15048723 -66.15960431\n",
      " -66.21175993 -66.20865938 -66.21367931 -66.22401447 -66.21128008\n",
      " -66.21895763 -66.21630001 -66.17972095 -66.18208327 -66.15635612\n",
      " -66.19263989 -66.19732762 -66.14764506 -66.13701462 -66.2064078\n",
      " -66.1808652  -66.17163738 -66.1693858  -66.18507308 -66.17994242\n",
      " -66.17842906 -66.20526355 -66.2168906  -66.22191053 -66.18920715\n",
      " -66.18470397 -66.19481766 -66.19743836 -66.20685073 -66.21360549\n",
      " -66.20389783 -66.19714307 -66.18647571 -66.19289827 -66.16761406\n",
      " -66.14587332 -66.1733353  -66.14823564 -66.15602392 -66.1398937\n",
      " -66.17256017 -66.18060682 -66.17901964 -66.18765687 -66.20253211\n",
      " -66.21290418 -66.21043112 -66.20725675 -66.18411339 -66.1782445\n",
      " -66.1710468  -66.17049313 -66.17053005 -66.15731581 -66.15631921\n",
      " -66.18440868 -66.18496235 -66.15063487 -66.14052119 -66.14295733\n",
      " -66.1700502  -66.1670973  -66.18189872 -66.19968995 -66.21323638\n",
      " -66.19197549 -66.21113244 -66.21810867 -66.21238742 -66.18876421\n",
      " -66.1546582  -66.16949653 -66.1667651  -66.11099217 -66.11638122\n",
      " -66.12708549 -66.11291156 -66.13930312 -66.14066883 -66.13579655\n",
      " -66.1766204  -66.16565776 -66.18451942 -66.18658645 -66.1936365\n",
      " -66.15912446 -66.16108076 -66.16484571 -66.18581131 -66.18503617\n",
      " -66.15617156 -66.1402259  -66.15971505 -66.15720508 -66.14380629\n",
      " -66.10829765 -66.12523992 -66.17167429 -66.15668832 -66.14535656\n",
      " -66.16008416 -66.16484571 -66.16890595 -66.16982873 -66.1562823\n",
      " -66.17178503 -66.19356268 -66.19795512 -66.18481471 -66.18503617\n",
      " -66.18599587 -66.17650967 -66.16204045 -66.15063487 -66.15487967\n",
      " -66.15152074 -66.14856784 -66.15391998 -66.15786948 -66.17023476\n",
      " -66.16359073 -66.14690684 -66.16052709 -66.1690536  -66.15524878\n",
      " -66.17625129 -66.17750627 -66.16440278 -66.1772479  -66.14683301\n",
      " -66.1654732  -66.1441754  -66.15454747 -66.15591318 -66.16558394\n",
      " -66.14993356 -66.14734977 -66.14882622 -66.14236675 -66.13491067\n",
      " -66.14015207 -66.15517496 -66.16240957 -66.18389192 -66.20271667\n",
      " -66.15307102 -66.18909641 -66.20061273 -66.18403957 -66.197586\n",
      " -66.19644175 -66.195925   -66.1752916  -66.15362469 -66.13790049\n",
      " -66.14683301 -66.15100399 -66.15624539 -66.15975196 -66.17278163\n",
      " -66.19164329 -66.18082829 -66.1952975  -66.1871032  -66.18828436\n",
      " -66.17713716 -66.21367931 -66.19120035 -66.18536837 -66.18396575\n",
      " -66.13878636 -66.16108076 -66.18953935 -66.16425513 -66.16189281\n",
      " -66.14033663 -66.16624834 -66.15676214 -66.1877307  -66.19053595\n",
      " -66.20197844 -66.23246715 -66.23715488 -66.19957921 -66.21257198\n",
      " -66.2178872  -66.19097889 -66.20028053 -66.18754614 -66.18138196\n",
      " -66.1972538  -66.18385501 -66.17256017 -66.15775875 -66.14768197\n",
      " -66.15303411 -66.1664329  -66.1962572  -66.18492544 -66.17654658\n",
      " -66.16957035 -66.17577145 -66.20651853 -66.195925   -66.19256607\n",
      " -66.18352281 -66.16340617 -66.17219105 -66.18182489 -66.16857375\n",
      " -66.17687878 -66.17746936 -66.17304001 -66.15207441 -66.16410749\n",
      " -66.16934889 -66.16849993 -66.14391702 -66.15340322 -66.15702052\n",
      " -66.18750923 -66.17030858 -66.17743245 -66.17470102 -66.19806585\n",
      " -66.21522959 -66.21006201 -66.20607559 -66.195925   -66.18001624\n",
      " -66.19153256 -66.18798907 -66.16916433 -66.18145578 -66.18869039\n",
      " -66.18245238 -66.17041931 -66.17193267 -66.19514986 -66.19858261\n",
      " -66.20581722 -66.18068064 -66.21382696 -66.19570353 -66.21367931\n",
      " -66.16979182 -66.21260889 -66.18614351 -66.1775801  -66.17606674\n",
      " -66.17942566 -66.18112358 -66.19145873 -66.17695261 -66.16853684\n",
      " -66.1320316  -66.15550716 -66.18138196 -66.16920124 -66.15812786\n",
      " -66.21072641 -66.20039126 -66.19998524 -66.18429795 -66.21290418\n",
      " -66.20984054 -66.22460505 -66.2018308  -66.20338107 -66.17363059\n",
      " -66.2047837  -66.17916728 -66.18064373 -66.18130814 -66.19666322\n",
      " -66.19149564 -66.18688174 -66.17805994 -66.20304887 -66.19570353\n",
      " -66.19655249 -66.20267976 -66.21596781 -66.21773955 -66.21552488\n",
      " -66.21271962 -66.19610955 -66.20459914 -66.20685073 -66.19345194\n",
      " -66.17466411 -66.19083124 -66.1844825  -66.18204636 -66.21017274\n",
      " -66.18846892 -66.19271372 -66.21146464 -66.18732467 -66.18451942\n",
      " -66.20744131 -66.20574339 -66.20076037 -66.19382105 -66.20319652\n",
      " -66.208401   -66.21785029 -66.18968699 -66.18990846 -66.19278754\n",
      " -66.19249225 -66.17503322 -66.18200945 -66.1782445  -66.19138491\n",
      " -66.18979773 -66.18998228 -66.22095083 -66.22977263 -66.19474384\n",
      " -66.18256312 -66.22774251 -66.20227373 -66.18433486 -66.19607264\n",
      " -66.20120331 -66.18440868 -66.19710616 -66.21545106 -66.17554998\n",
      " -66.17983168 -66.1684261  -66.16329544 -66.14930607 -66.19142182\n",
      " -66.19389488 -66.21017274 -66.17990551 -66.20596486 -66.1828215\n",
      " -66.18961317 -66.20924996 -66.21486048 -66.22154141 -66.20028053\n",
      " -66.2090285  -66.2136424  -66.175956   -66.17702643 -66.18068064\n",
      " -66.18555293 -66.16329544 -66.16277868 -66.18503617 -66.20157242\n",
      " -66.18595895 -66.17126827 -66.20061273 -66.21740735 -66.20777351\n",
      " -66.21290418 -66.20404547 -66.18898568 -66.17289237 -66.19153256\n",
      " -66.18942861 -66.17868744 -66.18001624 -66.18385501 -66.18333825\n",
      " -66.1523697  -66.18226783 -66.20016979 -66.18433486 -66.18440868\n",
      " -66.1680939  -66.19186476 -66.19869334 -66.18212018 -66.18540529\n",
      " -66.20456223 -66.18761996 -66.19016684 -66.19485457 -66.20002215\n",
      " -66.22047099 -66.20219991 -66.18761996 -66.19566662 -66.17237561\n",
      " -66.17156356 -66.17208032 -66.17650967 -66.17392588 -66.18953935\n",
      " -66.20419312 -66.18101285 -66.15713126 -66.17377824 -66.18241547\n",
      " -66.18702938 -66.17669423 -66.19717998 -66.19012993 -66.18761996\n",
      " -66.17894581 -66.18787834 -66.19116344 -66.17259708 -66.14343718\n",
      " -66.16750332 -66.17211723 -66.17650967 -66.16912742 -66.1831537\n",
      " -66.16277868 -66.17075151 -66.14225602 -66.16473498 -66.17610365\n",
      " -66.20112948 -66.18009006 -66.16658054 -66.15945667 -66.19467001\n",
      " -66.18012697 -66.18237856 -66.17972095 -66.17569762 -66.14483981\n",
      " -66.15864462 -66.138934   -66.1625203  -66.13723608 -66.16030563\n",
      " -66.17123136 -66.15591318 -66.1736675  -66.21541414 -66.18400266]\n"
     ]
    }
   ],
   "source": [
    "# print results saved in adc_results\n",
    "results = job.result_handles.get('adc_results').fetch_all()\n",
    "print('shape = ', results.shape)\n",
    "print('\\n(value, timestamp) = \\n', results)"
   ]
  },
  {
   "cell_type": "code",
   "execution_count": 55,
   "id": "895aabc5",
   "metadata": {
    "scrolled": true
   },
   "outputs": [
    {
     "data": {
      "text/plain": [
       "[<matplotlib.lines.Line2D at 0x14bb8f4b670>]"
      ]
     },
     "execution_count": 55,
     "metadata": {},
     "output_type": "execute_result"
    },
    {
     "data": {
      "image/png": "[encoded data removed]",
      "text/plain": [
       "<Figure size 1008x360 with 1 Axes>"
      ]
     },
     "metadata": {
      "needs_background": "light"
     },
     "output_type": "display_data"
    }
   ],
   "source": [
    "plt.figure(figsize = (14,5))\n",
    "plt.plot(results/2**12)"
   ]
  },
  {
   "cell_type": "code",
   "execution_count": 56,
   "id": "33e17779",
   "metadata": {
    "scrolled": true
   },
   "outputs": [
    {
     "data": {
      "image/png": "[encoded data removed]",
      "text/plain": [
       "<Figure size 1008x360 with 1 Axes>"
      ]
     },
     "metadata": {
      "needs_background": "light"
     },
     "output_type": "display_data"
    }
   ],
   "source": [
    "# Retrieving and plotting FFT data.\n",
    "results_fft = job.result_handles.get('adc_fft').fetch_all()\n",
    "plt.figure(figsize = (14,5))\n",
    "pulse_len = 1000 # pulse len in nanoseconds\n",
    "\n",
    "results_fft = np.sqrt(np.sum(np.squeeze(results_fft) ** 2, axis=1)) / pulse_len\n",
    "freqs = np.arange(0, 0.5, 1 / pulse_len)[:]*1e9 \n",
    "amps = results_fft[: int(np.ceil(pulse_len / 2))]\n",
    "plt.plot(freqs[5:]/1e6, amps[5:])\n",
    "plt.xlabel('freq (MHz)')\n",
    "plt.show()\n"
   ]
  },
  {
   "cell_type": "markdown",
   "id": "2da1767e",
   "metadata": {},
   "source": [
    "#### Getting I and Q from integrated ADC data\n",
    "\n",
    "The measurement command can be used to directly integrate the ADC data and output single I and Q values.\n",
    "\n",
    "The stream in which to save the raw ADC data is set to None. The integration weigths and variables are defined in demod.full."
   ]
  },
  {
   "cell_type": "code",
   "execution_count": 77,
   "id": "5c47e342",
   "metadata": {},
   "outputs": [],
   "source": [
    "with program() as integrate_IQ:\n",
    "    \n",
    "    I = declare(fixed)\n",
    "    Q = declare(fixed)\n",
    "    \n",
    "    I_st = declare_stream()\n",
    "    Q_st = declare_stream()\n",
    "    \n",
    "    measure(\"long_readout\", \"rr\", None, \n",
    "            demod.full('long_integW1', I), \n",
    "            demod.full('long_integW2', Q))\n",
    "    \n",
    "    save(I, I_st)\n",
    "    save(Q, Q_st) \n",
    "    \n",
    "    \n",
    "    with stream_processing():\n",
    "        I_st.save('I')\n",
    "        Q_st.save('Q')\n"
   ]
  },
  {
   "cell_type": "code",
   "execution_count": 78,
   "id": "edd1fdfc",
   "metadata": {
    "scrolled": true
   },
   "outputs": [
    {
     "name": "stdout",
     "output_type": "stream",
     "text": [
      "2021-04-25 18:49:02,864 - qm - INFO - Flags: \n",
      "2021-04-25 18:49:02,865 - qm - INFO - Executing high level program\n"
     ]
    }
   ],
   "source": [
    "# Execute script\n",
    "job = qm.execute(integrate_IQ)\n",
    "# job.halt()"
   ]
  },
  {
   "cell_type": "code",
   "execution_count": 79,
   "id": "c3b2dd23",
   "metadata": {
    "scrolled": true
   },
   "outputs": [
    {
     "name": "stdout",
     "output_type": "stream",
     "text": [
      "I =  -1.8071383237838745e-05\n",
      "Q =  2.1979212760925293e-05\n"
     ]
    }
   ],
   "source": [
    "# print results saved in adc_results\n",
    "I_results = job.result_handles.get('I').fetch_all()\n",
    "Q_results = job.result_handles.get('Q').fetch_all()\n",
    "print('I = ', I_results)\n",
    "print('Q = ', Q_results)"
   ]
  },
  {
   "cell_type": "markdown",
   "id": "27b6694f",
   "metadata": {},
   "source": [
    "#### Buffering I and Q\n",
    "\n",
    "First note that it is possible to explicitely save all measurements of I and Q using .save_all() command within the stream_processing environment (ikr). Using .save() will only store the latest results"
   ]
  },
  {
   "cell_type": "code",
   "execution_count": 152,
   "id": "2e869a1a",
   "metadata": {},
   "outputs": [],
   "source": [
    "reps = 10\n",
    "with program() as buffering_IQ:\n",
    "    \n",
    "    n = declare(int)\n",
    "    I = declare(fixed)\n",
    "    Q = declare(fixed)\n",
    "    \n",
    "    I_st = declare_stream()\n",
    "    Q_st = declare_stream()\n",
    "    \n",
    "    with for_(n, 0, n < reps, n + 1):\n",
    "        measure(\"long_readout\", \"rr\", None, \n",
    "                demod.full('long_integW1', I), \n",
    "                demod.full('long_integW2', Q))\n",
    "        save(I, I_st)\n",
    "        save(Q, Q_st) \n",
    "        wait(20000, 'rr')\n",
    "    \n",
    "    \n",
    "    with stream_processing():\n",
    "        I_st.save_all('I')\n",
    "        Q_st.save_all('Q')\n"
   ]
  },
  {
   "cell_type": "code",
   "execution_count": 153,
   "id": "cce318be",
   "metadata": {
    "scrolled": true
   },
   "outputs": [
    {
     "name": "stdout",
     "output_type": "stream",
     "text": [
      "2021-04-25 11:35:54,537 - qm - INFO - Flags: \n",
      "2021-04-25 11:35:54,538 - qm - INFO - Executing high level program\n"
     ]
    }
   ],
   "source": [
    "# Execute script\n",
    "job = qm.execute(buffering_IQ)\n",
    "# job.halt()"
   ]
  },
  {
   "cell_type": "code",
   "execution_count": 154,
   "id": "8c3b9930",
   "metadata": {
    "scrolled": false
   },
   "outputs": [
    {
     "name": "stdout",
     "output_type": "stream",
     "text": [
      "I =  [(-2.08131969e-05,) ( 2.02544034e-05,) (-2.20797956e-05,)\n",
      " ( 2.36816704e-05,) (-2.28881836e-05,) ( 1.51917338e-05,)\n",
      " (-1.61007047e-05,) ( 3.15569341e-05,) (-1.89542770e-05,)\n",
      " ( 2.16849148e-05,)]\n",
      "Q =  [(-1.52103603e-05,) ( 8.36700201e-06,) (-1.09113753e-05,)\n",
      " ( 8.70972872e-06,) (-1.40741467e-05,) ( 1.18538737e-05,)\n",
      " (-1.26622617e-05,) ( 8.84011388e-06,) (-1.03265047e-05,)\n",
      " ( 1.52625144e-05,)]\n"
     ]
    }
   ],
   "source": [
    "# print results saved in adc_results\n",
    "I_results = job.result_handles.get('I').fetch_all()\n",
    "Q_results = job.result_handles.get('Q').fetch_all()\n",
    "print('I = ', I_results)\n",
    "print('Q = ', Q_results)"
   ]
  },
  {
   "cell_type": "markdown",
   "id": "ca327bdc",
   "metadata": {},
   "source": [
    "Now let us add an inner loop in measurement frequency and reshape the results in an intelligible way using .buffer()"
   ]
  },
  {
   "cell_type": "code",
   "execution_count": 156,
   "id": "31a7ab75",
   "metadata": {},
   "outputs": [],
   "source": [
    "reps = 10\n",
    "f_vec = [int(10e6), int(50e6)]\n",
    "buffer_len = len(f_vec)\n",
    "\n",
    "with program() as buffering_IQ:\n",
    "    \n",
    "    n = declare(int)\n",
    "    f = declare(int)\n",
    "    I = declare(fixed)\n",
    "    Q = declare(fixed)\n",
    "    \n",
    "    I_st = declare_stream()\n",
    "    Q_st = declare_stream()\n",
    "    \n",
    "    with for_(n, 0, n < reps, n + 1):\n",
    "        with for_each_(f, f_vec):\n",
    "            measure(\"long_readout\", \"rr\", None, \n",
    "                    demod.full('long_integW1', I), \n",
    "                    demod.full('long_integW2', Q))\n",
    "            save(I, I_st)\n",
    "            save(Q, Q_st) \n",
    "            wait(20000, 'rr')\n",
    "    \n",
    "    \n",
    "    with stream_processing():\n",
    "        I_st.buffer(buffer_len).save_all('I')\n",
    "        Q_st.buffer(buffer_len).save_all('Q')"
   ]
  },
  {
   "cell_type": "code",
   "execution_count": 157,
   "id": "ef9ca009",
   "metadata": {},
   "outputs": [
    {
     "name": "stdout",
     "output_type": "stream",
     "text": [
      "2021-04-25 11:42:10,115 - qm - INFO - Flags: \n",
      "2021-04-25 11:42:10,116 - qm - INFO - Executing high level program\n"
     ]
    }
   ],
   "source": [
    "# Execute script\n",
    "job = qm.execute(buffering_IQ)\n",
    "# job.halt()"
   ]
  },
  {
   "cell_type": "code",
   "execution_count": 167,
   "id": "b5850d6b",
   "metadata": {
    "scrolled": true
   },
   "outputs": [
    {
     "name": "stdout",
     "output_type": "stream",
     "text": [
      "I =  [([ 1.57430768e-05, -7.39097595e-06],)\n",
      " ([ 2.26795673e-05, -2.48998404e-05],)\n",
      " ([-1.25095248e-05,  3.53157520e-06],)\n",
      " ([-2.30856240e-05,  2.64532864e-05],)\n",
      " ([ 9.74535942e-06, -3.49432230e-06],)\n",
      " ([ 2.19084322e-05, -2.10329890e-05],)\n",
      " ([ 7.10040331e-06,  5.04776835e-06],)\n",
      " ([-2.35028565e-05,  2.10776925e-05],)\n",
      " ([-6.17280602e-06, -4.82425094e-06],)\n",
      " ([ 2.87964940e-05, -1.90809369e-05],)]\n"
     ]
    }
   ],
   "source": [
    "# print results saved in adc_results\n",
    "I_results = job.result_handles.get('I').fetch_all()\n",
    "print('I = ', I_results)"
   ]
  },
  {
   "cell_type": "markdown",
   "id": "640be2f9",
   "metadata": {},
   "source": [
    "The result above is a 2D array, with the first dimension corresponding to the outer loop (repetitions) and the second dimension corresponding to the inner loop (frequencies). The second dimension is bidimensional because we told it to be using .buffer(buffer_len).\n",
    "\n",
    "However, this data is hard to access because it is enveloped in nasty tuples. We can fix that and get a nice ndarray by setting the flat_struct tag:"
   ]
  },
  {
   "cell_type": "code",
   "execution_count": 169,
   "id": "fe696eaf",
   "metadata": {
    "scrolled": false
   },
   "outputs": [
    {
     "name": "stdout",
     "output_type": "stream",
     "text": [
      "I =  [[ 1.57430768e-05 -7.39097595e-06]\n",
      " [ 2.26795673e-05 -2.48998404e-05]\n",
      " [-1.25095248e-05  3.53157520e-06]\n",
      " [-2.30856240e-05  2.64532864e-05]\n",
      " [ 9.74535942e-06 -3.49432230e-06]\n",
      " [ 2.19084322e-05 -2.10329890e-05]\n",
      " [ 7.10040331e-06  5.04776835e-06]\n",
      " [-2.35028565e-05  2.10776925e-05]\n",
      " [-6.17280602e-06 -4.82425094e-06]\n",
      " [ 2.87964940e-05 -1.90809369e-05]]\n"
     ]
    }
   ],
   "source": [
    "I_results = job.result_handles.get('I').fetch_all(flat_struct=True)\n",
    "print('I = ', I_results)"
   ]
  },
  {
   "cell_type": "markdown",
   "id": "6ced7bd8",
   "metadata": {},
   "source": [
    "#### Multi-variable buffering\n",
    "\n",
    "Let us now include a variable pulse amplitude in the loop.\n",
    "\n",
    "We want to include both f and amp sweeps in a single for_each_ loop, so it is first necessary to use np.meshgrid(). The indexing = 'ij' tag guarantees that the lists passed as parameters are in the order from outer to inner loop.\n",
    "\n",
    "Remember to convert frequencies back to integers after doing the meshgrid. Otherwise QUA might complain."
   ]
  },
  {
   "cell_type": "code",
   "execution_count": 222,
   "id": "d9526843",
   "metadata": {},
   "outputs": [
    {
     "name": "stdout",
     "output_type": "stream",
     "text": [
      "f_vec_py =  [10000000, 10000000, 10000000, 50000000, 50000000, 50000000]\n",
      "amp_vec_py =  [0.01 0.2  1.   0.01 0.2  1.  ]\n"
     ]
    }
   ],
   "source": [
    "f_vec = [int(10e6), int(50e6)]\n",
    "amp_vec = [0.01, 0.20, 1.0]\n",
    "parameter_list = [(x.flatten()) \n",
    "                  for x in np.meshgrid(f_vec, amp_vec, indexing = 'ij')]\n",
    "\n",
    "f_vec_py = [int(x) for x in parameter_list[0]]\n",
    "amp_vec_py = parameter_list[1]\n",
    "\n",
    "print('f_vec_py = ', f_vec_py)\n",
    "print('amp_vec_py = ', amp_vec_py)"
   ]
  },
  {
   "cell_type": "code",
   "execution_count": 223,
   "id": "f9c439a8",
   "metadata": {},
   "outputs": [],
   "source": [
    "reps = 10\n",
    "buffer_len_f = len(f_vec)\n",
    "buffer_len_amp = len(amp_vec)\n",
    "\n",
    "with program() as multiple_var_buffer:\n",
    "    \n",
    "    n = declare(int)\n",
    "    f = declare(int)\n",
    "    a = declare(fixed)\n",
    "    I = declare(fixed)\n",
    "    Q = declare(fixed)\n",
    "    \n",
    "    f_vec_qua = declare(int, value = f_vec_py)\n",
    "    amp_vec_qua = declare(fixed, value = amp_vec_py)\n",
    "    \n",
    "    I_st = declare_stream()\n",
    "    Q_st = declare_stream()\n",
    "    \n",
    "    with for_(n, 0, n < reps, n + 1):\n",
    "        with for_each_((f, a), (f_vec_qua, amp_vec_qua)):\n",
    "            measure(\"long_readout\", \"rr\", None, \n",
    "                    demod.full('long_integW1', I), \n",
    "                    demod.full('long_integW2', Q))\n",
    "            save(I, I_st)\n",
    "            save(Q, Q_st) \n",
    "            wait(20000, 'rr')\n",
    "    \n",
    "    \n",
    "    with stream_processing():\n",
    "        I_st.buffer(buffer_len_f, buffer_len_amp).save_all('I')\n",
    "        Q_st.buffer(buffer_len_f, buffer_len_amp).save_all('Q')"
   ]
  },
  {
   "cell_type": "code",
   "execution_count": 224,
   "id": "58a80309",
   "metadata": {
    "scrolled": true
   },
   "outputs": [
    {
     "name": "stdout",
     "output_type": "stream",
     "text": [
      "2021-04-25 13:06:49,915 - qm - INFO - Flags: \n",
      "2021-04-25 13:06:49,916 - qm - INFO - Executing high level program\n"
     ]
    }
   ],
   "source": [
    "# Execute script\n",
    "job = qm.execute(multiple_var_buffer)\n",
    "# job.halt()"
   ]
  },
  {
   "cell_type": "markdown",
   "id": "1dc8a6dc",
   "metadata": {},
   "source": [
    "I_results.shape = (10, 2, 3), which means the first dimension is the repetition, the second is frequency and the third is amplitude. In order for this to work, you must make sure the buffering lengths are in the same order as the loop."
   ]
  },
  {
   "cell_type": "code",
   "execution_count": 225,
   "id": "97b38d58",
   "metadata": {
    "scrolled": true
   },
   "outputs": [
    {
     "name": "stdout",
     "output_type": "stream",
     "text": [
      "(10, 2, 3)\n",
      "I =  [[[ 1.05276704e-05 -1.33849680e-05  8.97049904e-06]\n",
      "  [-7.94231892e-06  1.79000199e-05 -8.95559788e-06]]\n",
      "\n",
      " [[ 2.12639570e-05 -1.98297203e-05  1.98818743e-05]\n",
      "  [-2.45869160e-05  1.71214342e-05 -2.34395266e-05]]\n",
      "\n",
      " [[-4.24683094e-07  9.67830420e-06 -1.12876296e-05]\n",
      "  [ 9.70438123e-06 -2.96533108e-06  1.03823841e-05]]\n",
      "\n",
      " [[-2.68034637e-05  2.51084566e-05 -2.15061009e-05]\n",
      "  [ 2.57566571e-05 -2.26125121e-05  2.21282244e-05]]\n",
      "\n",
      " [[ 4.00096178e-06 -5.39422035e-06  4.30643559e-06]\n",
      "  [-4.10899520e-06  7.67782331e-06 -5.61401248e-06]]\n",
      "\n",
      " [[ 2.22921371e-05 -2.24672258e-05  2.77683139e-05]\n",
      "  [-2.62334943e-05  2.08839774e-05 -2.35661864e-05]]\n",
      "\n",
      " [[-5.71832061e-06 -1.13993883e-06 -2.14204192e-06]\n",
      "  [-3.78116965e-06 -6.82845712e-06  4.47034836e-07]]\n",
      "\n",
      " [[-2.58572400e-05  2.28397548e-05 -2.75634229e-05]\n",
      "  [ 1.97105110e-05 -1.89058483e-05  2.32383609e-05]]\n",
      "\n",
      " [[-1.56089664e-06  2.50339508e-06  1.10268593e-06]\n",
      "  [ 2.11223960e-06  3.03611159e-06  3.45706940e-06]]\n",
      "\n",
      " [[ 2.54549086e-05 -1.97216868e-05  2.53468752e-05]\n",
      "  [-3.09236348e-05  2.14204192e-05 -2.04928219e-05]]]\n"
     ]
    }
   ],
   "source": [
    "I_results = job.result_handles.get('I').fetch_all(flat_struct=True)\n",
    "print(I_results.shape)\n",
    "print('I = ', I_results)"
   ]
  },
  {
   "cell_type": "markdown",
   "id": "91edc546",
   "metadata": {},
   "source": [
    "It is possible to take the average of each of the 10 (2,3)-matrices with stream processing. You simply need to add .average() after the buffer, and use .save() instead of .save_all() to get only the consolidated average.\n",
    "\n",
    "Note that using .save_all() would give you the evolution of the average with the accumulation of repeated measurements."
   ]
  },
  {
   "cell_type": "code",
   "execution_count": 229,
   "id": "002f0351",
   "metadata": {},
   "outputs": [],
   "source": [
    "reps = 10\n",
    "f_vec = [int(10e6), int(50e6)]\n",
    "amp_vec = [0.01, 0.20, 1.0]\n",
    "buffer_len_f = len(f_vec)\n",
    "buffer_len_amp = len(amp_vec)\n",
    "\n",
    "parameter_list = [(x.flatten()) \n",
    "                  for x in np.meshgrid(f_vec, amp_vec, indexing = 'ij')]\n",
    "\n",
    "f_vec_py = [int(x) for x in parameter_list[0]]\n",
    "amp_vec_py = parameter_list[1]\n",
    "\n",
    "\n",
    "with program() as multiple_var_avg:\n",
    "    \n",
    "    n = declare(int)\n",
    "    f = declare(int)\n",
    "    a = declare(fixed)\n",
    "    I = declare(fixed)\n",
    "    Q = declare(fixed)\n",
    "    \n",
    "    f_vec_qua = declare(int, value = f_vec_py)\n",
    "    amp_vec_qua = declare(fixed, value = amp_vec_py)\n",
    "    \n",
    "    I_st = declare_stream()\n",
    "    Q_st = declare_stream()\n",
    "    \n",
    "    with for_(n, 0, n < reps, n + 1):\n",
    "        with for_each_((f, a), (f_vec_qua, amp_vec_qua)):\n",
    "            measure(\"long_readout\", \"rr\", None, \n",
    "                    demod.full('long_integW1', I), \n",
    "                    demod.full('long_integW2', Q))\n",
    "            save(I, I_st)\n",
    "            save(Q, Q_st) \n",
    "            wait(20000, 'rr')\n",
    "    \n",
    "    \n",
    "    with stream_processing():\n",
    "        I_st.buffer(buffer_len_f, buffer_len_amp).average().save('I')\n",
    "        Q_st.buffer(buffer_len_f, buffer_len_amp).average().save('Q')"
   ]
  },
  {
   "cell_type": "code",
   "execution_count": 230,
   "id": "ba45aed5",
   "metadata": {
    "scrolled": true
   },
   "outputs": [
    {
     "name": "stdout",
     "output_type": "stream",
     "text": [
      "2021-04-25 13:46:44,005 - qm - INFO - Flags: \n",
      "2021-04-25 13:46:44,006 - qm - INFO - Executing high level program\n"
     ]
    }
   ],
   "source": [
    "# Execute script\n",
    "job = qm.execute(multiple_var_avg)\n",
    "# job.halt()"
   ]
  },
  {
   "cell_type": "code",
   "execution_count": 232,
   "id": "93098f6a",
   "metadata": {
    "scrolled": true
   },
   "outputs": [
    {
     "name": "stdout",
     "output_type": "stream",
     "text": [
      "(2, 3)\n",
      "I =  [[ 1.4949590e-06 -2.1215528e-06  3.1292439e-06]\n",
      " [-4.1507185e-06  2.8811395e-06 -4.0087849e-06]]\n"
     ]
    }
   ],
   "source": [
    "I_results = job.result_handles.get('I').fetch_all(flat_struct=True)\n",
    "print(I_results.shape)\n",
    "print('I = ', I_results)"
   ]
  }
 ],
 "metadata": {
  "kernelspec": {
   "display_name": "Python 3",
   "language": "python",
   "name": "python3"
  },
  "language_info": {
   "codemirror_mode": {
    "name": "ipython",
    "version": 3
   },
   "file_extension": ".py",
   "mimetype": "text/x-python",
   "name": "python",
   "nbconvert_exporter": "python",
   "pygments_lexer": "ipython3",
   "version": "3.9.2"
  }
 },
 "nbformat": 4,
 "nbformat_minor": 5
}
