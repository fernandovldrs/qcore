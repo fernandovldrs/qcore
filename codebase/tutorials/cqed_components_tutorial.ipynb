{
 "cells": [
  {
   "cell_type": "code",
   "execution_count": 1,
   "id": "dynamic-christopher",
   "metadata": {},
   "outputs": [],
   "source": [
    "# use the cell below to ensure correct relative imports\n",
    "# you must be in the qcore directory"
   ]
  },
  {
   "cell_type": "code",
   "execution_count": 2,
   "id": "standing-findings",
   "metadata": {},
   "outputs": [
    {
     "name": "stdout",
     "output_type": "stream",
     "text": [
      "C:\\Users\\qcrew\\Desktop\\qcore\\qcore\n"
     ]
    }
   ],
   "source": [
    "cd ../qcore"
   ]
  },
  {
   "cell_type": "markdown",
   "id": "accurate-father",
   "metadata": {},
   "source": [
    "### Proto-user guide for interacting with QuantumElement and QuantumDevice objects in qcore\n",
    "\n",
    "Motivation: you want a way to store the properties of your cQED samples for easy getting/setting.\n",
    "\n",
    "1. A QuantumElement encapsulates a qubit, resonator e.t.c \n",
    "2. A QuantumDevice encapsulates a cQED package composed of quantum elements (qubits, resonators e.t.c)\n",
    "3. In qcore, both object types are of type MetaInstrument, so you can initialize them with a variable number of parameters, and once initialized, their parameters become their attributes - more on this below!\n",
    "4. Moreover, both object types can be saved into yaml files - more on this below too!"
   ]
  },
  {
   "cell_type": "code",
   "execution_count": 3,
   "id": "higher-complaint",
   "metadata": {},
   "outputs": [],
   "source": [
    "# import cqed components\n",
    "from instruments import QuantumElement, QuantumDevice"
   ]
  },
  {
   "cell_type": "markdown",
   "id": "minute-ecology",
   "metadata": {},
   "source": [
    "### Creating a qubit and a resonator"
   ]
  },
  {
   "cell_type": "code",
   "execution_count": 4,
   "id": "illegal-scenario",
   "metadata": {},
   "outputs": [],
   "source": [
    "# we can initialize a QuantumElement with a 'name' and any number of other parameters\n",
    "# let's first create a dictionary of these parameters\n",
    "\n",
    "# in this example, we define the minimal parameters needed for the OPX to interact with a qubit and a resonator\n",
    "\n",
    "qubit_parameters = {\n",
    "    'name': 'qubit',\n",
    "    'lo_freq': 5e9,\n",
    "    'int_freq': 50e6,\n",
    "    'ports': {'I': 1, 'Q': 2}, # analog output ports on the OPX\n",
    "    'operations': {}\n",
    "}\n",
    "\n",
    "rr_parameters = {\n",
    "    'name': 'rr',\n",
    "    'lo_freq': 8e9,\n",
    "    'int_freq': -50e6,\n",
    "    'ports': {'I': 3, 'Q': 4, 'out': 1}, # 'out' refers to analog input port on the OPX\n",
    "    'operations': {},\n",
    "    'time_of_flight': 824,\n",
    "    'smearing': 0\n",
    "}"
   ]
  },
  {
   "cell_type": "code",
   "execution_count": 5,
   "id": "distributed-craps",
   "metadata": {},
   "outputs": [],
   "source": [
    "# let's now add some operations to the qubit and resonator from the pulse library\n",
    "# we import 3 default Pulse objects\n",
    "from utils.pulselib import DEFAULT_CW_PULSE, DEFAULT_READOUT_PULSE, DEFAULT_GAUSSIAN_PULSE\n",
    "\n",
    "# here, 'CW' is the name of the operation and DEFAULT_CW_PULSE is the Pulse object associated with the operation\n",
    "qubit_parameters['operations']['CW'] = DEFAULT_CW_PULSE\n",
    "qubit_parameters['operations']['gaussian'] = DEFAULT_GAUSSIAN_PULSE\n",
    "\n",
    "# similarly, let's add a CW and a readout pulse to our resonator operations\n",
    "rr_parameters['operations']['CW'] = DEFAULT_CW_PULSE\n",
    "rr_parameters['operations']['readout'] = DEFAULT_READOUT_PULSE"
   ]
  },
  {
   "cell_type": "code",
   "execution_count": 6,
   "id": "unavailable-keyboard",
   "metadata": {},
   "outputs": [],
   "source": [
    "# let's create our qubit and resonator objects!!!\n",
    "qubit = QuantumElement(**qubit_parameters) # ** means we are unpacking the dictionary\n",
    "rr = QuantumElement(**rr_parameters)"
   ]
  },
  {
   "cell_type": "markdown",
   "id": "particular-decade",
   "metadata": {},
   "source": [
    "### Interacting with the qubit and resonator"
   ]
  },
  {
   "cell_type": "code",
   "execution_count": 7,
   "id": "sealed-ballet",
   "metadata": {},
   "outputs": [],
   "source": [
    "# as QuantumElement objects are MetaInstruments, every parameter they have is also their attribute!\n",
    "# you can first call .parameters to see what parameters they have"
   ]
  },
  {
   "cell_type": "code",
   "execution_count": 8,
   "id": "responsible-coral",
   "metadata": {},
   "outputs": [
    {
     "data": {
      "text/plain": [
       "{'lo_freq': 5000000000.0,\n",
       " 'int_freq': 50000000.0,\n",
       " 'ports': {'I': 1, 'Q': 2},\n",
       " 'operations': {'CW': <utils.pulselib.Pulse at 0x1c3c2c05f70>,\n",
       "  'gaussian': <utils.pulselib.Pulse at 0x1c3c2c330a0>}}"
      ]
     },
     "execution_count": 8,
     "metadata": {},
     "output_type": "execute_result"
    }
   ],
   "source": [
    "qubit.parameters"
   ]
  },
  {
   "cell_type": "code",
   "execution_count": 9,
   "id": "4b71d3bb",
   "metadata": {},
   "outputs": [
    {
     "data": {
      "text/plain": [
       "{'lo_freq': 8000000000.0,\n",
       " 'int_freq': -50000000.0,\n",
       " 'ports': {'I': 3, 'Q': 4, 'out': 1},\n",
       " 'operations': {'CW': <utils.pulselib.Pulse at 0x1c3c2c05f70>,\n",
       "  'readout': <utils.pulselib.MeasurementPulse at 0x1c3c2c05fa0>},\n",
       " 'time_of_flight': 824,\n",
       " 'smearing': 0}"
      ]
     },
     "execution_count": 9,
     "metadata": {},
     "output_type": "execute_result"
    }
   ],
   "source": [
    "rr.parameters"
   ]
  },
  {
   "cell_type": "code",
   "execution_count": 10,
   "id": "tender-documentation",
   "metadata": {},
   "outputs": [
    {
     "data": {
      "text/plain": [
       "5000000000.0"
      ]
     },
     "execution_count": 10,
     "metadata": {},
     "output_type": "execute_result"
    }
   ],
   "source": [
    "# now, let's access the qubit's lo_freq\n",
    "qubit.lo_freq\n",
    "\n",
    "# and so on...\n",
    "# you might think this object is a little boring, you can't interact with it much, and you'll be right\n",
    "# this class currently exists to store ALL the data about your quantum element!"
   ]
  },
  {
   "cell_type": "markdown",
   "id": "black-integrity",
   "metadata": {},
   "source": [
    "### Packaging the quantum elements in QuantumDevice"
   ]
  },
  {
   "cell_type": "code",
   "execution_count": 11,
   "id": "foreign-guyana",
   "metadata": {},
   "outputs": [],
   "source": [
    "# but what if you wanted to store the data of your entire DEVICE ?!? We have QuantumDevice just for that!!\n",
    "quantum_elements = {\n",
    "    'qubit': qubit, # key is the name, value is the QuantumElement object\n",
    "    'rr': rr\n",
    "}\n",
    "\n",
    "device = QuantumDevice(name='device_A', **quantum_elements)"
   ]
  },
  {
   "cell_type": "code",
   "execution_count": 12,
   "id": "embedded-representation",
   "metadata": {},
   "outputs": [
    {
     "data": {
      "text/plain": [
       "{'qubit': {'lo_freq': 5000000000.0,\n",
       "  'int_freq': 50000000.0,\n",
       "  'ports': {'I': 1, 'Q': 2},\n",
       "  'operations': {'CW': <utils.pulselib.Pulse at 0x1c3c2c05f70>,\n",
       "   'gaussian': <utils.pulselib.Pulse at 0x1c3c2c330a0>}},\n",
       " 'rr': {'lo_freq': 8000000000.0,\n",
       "  'int_freq': -50000000.0,\n",
       "  'ports': {'I': 3, 'Q': 4, 'out': 1},\n",
       "  'operations': {'CW': <utils.pulselib.Pulse at 0x1c3c2c05f70>,\n",
       "   'readout': <utils.pulselib.MeasurementPulse at 0x1c3c2c05fa0>},\n",
       "  'time_of_flight': 824,\n",
       "  'smearing': 0}}"
      ]
     },
     "execution_count": 12,
     "metadata": {},
     "output_type": "execute_result"
    }
   ],
   "source": [
    "# just like QuantumElement, QuantumDevice is also a MetaInstrument, which means you can call its parameters as its attributes!\n",
    "# you'll get the current parameter values of all elements that are part of this device\n",
    "device.parameters"
   ]
  },
  {
   "cell_type": "code",
   "execution_count": 13,
   "id": "expected-disney",
   "metadata": {},
   "outputs": [
    {
     "data": {
      "text/plain": [
       "<instruments.meta.cqed_components.QuantumElement at 0x1c3c172fe20>"
      ]
     },
     "execution_count": 13,
     "metadata": {},
     "output_type": "execute_result"
    }
   ],
   "source": [
    "# to access the qubit, you use\n",
    "device.qubit\n",
    "\n",
    "# to access the resonator, you use\n",
    "device.rr"
   ]
  },
  {
   "cell_type": "markdown",
   "id": "innovative-winter",
   "metadata": {},
   "source": [
    "### Saving QuantumDevice to yaml file"
   ]
  },
  {
   "cell_type": "code",
   "execution_count": 14,
   "id": "special-commons",
   "metadata": {},
   "outputs": [],
   "source": [
    "# we can of course save the individual QuantumElement, but it makes more sense to save the whole device, so let's do that\n",
    "\n",
    "# first, we import Python's pathlib, which makes dealing with paths REALLY STRAIGHTFORWARD\n",
    "from pathlib import Path"
   ]
  },
  {
   "cell_type": "code",
   "execution_count": 15,
   "id": "educated-hughes",
   "metadata": {},
   "outputs": [],
   "source": [
    "# I want my yaml file to be saved with a given name in the 'tutorials' folder, so I do\n",
    "yaml_file_name = 'example_device.yaml'\n",
    "yaml_file_path = Path.cwd().parent / 'tutorials' / yaml_file_name"
   ]
  },
  {
   "cell_type": "code",
   "execution_count": 16,
   "id": "crude-latest",
   "metadata": {},
   "outputs": [],
   "source": [
    "# i now call save() on the device and pass it the yaml_file_path (which is a Path object)\n",
    "device.save(yaml_file_path)\n",
    "\n",
    "# you can now use a Stage object to load this device in future experiments - more on this in the stage tutorial!"
   ]
  },
  {
   "cell_type": "code",
   "execution_count": null,
   "id": "million-nashville",
   "metadata": {},
   "outputs": [],
   "source": []
  }
 ],
 "metadata": {
  "kernelspec": {
   "display_name": "Python 3",
   "language": "python",
   "name": "python3"
  },
  "language_info": {
   "codemirror_mode": {
    "name": "ipython",
    "version": 3
   },
   "file_extension": ".py",
   "mimetype": "text/x-python",
   "name": "python",
   "nbconvert_exporter": "python",
   "pygments_lexer": "ipython3",
   "version": "3.9.2"
  }
 },
 "nbformat": 4,
 "nbformat_minor": 5
}
