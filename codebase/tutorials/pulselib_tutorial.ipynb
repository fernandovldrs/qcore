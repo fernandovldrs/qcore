{
 "cells": [
  {
   "cell_type": "code",
   "execution_count": 1,
   "id": "descending-arbor",
   "metadata": {},
   "outputs": [],
   "source": [
    "# use the cell below to ensure correct relative imports\n",
    "# you must be in the qcore directory"
   ]
  },
  {
   "cell_type": "code",
   "execution_count": 2,
   "id": "respiratory-relief",
   "metadata": {},
   "outputs": [
    {
     "name": "stdout",
     "output_type": "stream",
     "text": [
      "C:\\Users\\qcrew\\Desktop\\qcrew\\qcore\n"
     ]
    }
   ],
   "source": [
    "cd ..\\qcore"
   ]
  },
  {
   "cell_type": "markdown",
   "id": "indoor-bernard",
   "metadata": {},
   "source": [
    "### Proto-user guide for interacting with Pulse and Waveform objects in qcore\n",
    "\n",
    "Motivation: you want a way to define custom Pulses and Waveforms that is not tied to QuantumElement or QM. \n",
    "\n",
    "Currently, the pulselib is a module that has:\n",
    "1. Helper functions to generate waveform samples\n",
    "2. Pulse and Waveform objects that encapsulate data and operations relating to pulses and waveforms\n",
    "3. Global variables defining archetypical pulses (cw pulse, readout pulse) and waveforms (zero waveform, gaussian waveform)"
   ]
  },
  {
   "cell_type": "code",
   "execution_count": 3,
   "id": "fundamental-latin",
   "metadata": {},
   "outputs": [],
   "source": [
    "# import Pulse and Waveform from pulselib\n",
    "from utils.pulselib import Pulse, MeasurementPulse, ConstantWaveform, ArbitraryWaveform"
   ]
  },
  {
   "cell_type": "markdown",
   "id": "faced-workshop",
   "metadata": {},
   "source": [
    "### Creating Waveforms"
   ]
  },
  {
   "cell_type": "code",
   "execution_count": 4,
   "id": "understanding-electronics",
   "metadata": {},
   "outputs": [],
   "source": [
    "# the pulselib defines two waveform generating functions - 'constant_fn' and 'gauss_fn'\n",
    "# let's use these to encapsulate a very trivial waveform - the zero waveform\n",
    "\n",
    "# in QM lingo, we have two types of waveforms - Constant and Arbitrary\n",
    "# the zero waveform is a constant waveform with amp = 0.0\n",
    "zero_wf = ConstantWaveform(name='zero_wf', amp=0.0)"
   ]
  },
  {
   "cell_type": "code",
   "execution_count": 5,
   "id": "dutch-broadcast",
   "metadata": {},
   "outputs": [
    {
     "data": {
      "text/plain": [
       "0.0"
      ]
     },
     "execution_count": 5,
     "metadata": {},
     "output_type": "execute_result"
    }
   ],
   "source": [
    "# we can call get_samples() on the waveform to return its sample(s)\n",
    "zero_wf.get_samples()"
   ]
  },
  {
   "cell_type": "code",
   "execution_count": 6,
   "id": "sharp-snowboard",
   "metadata": {},
   "outputs": [],
   "source": [
    "# let's use the gauss_fn to define a gauss waveform\n",
    "# the gaussian waveform is an arbitrary waveform\n",
    "\n",
    "# when initializing arbitrary waveforms, you need to pass the function string (in this case, 'gauss_fn')\n",
    "# and additional parameters that the fn takes, which in this case, is 3 - max_amp, sigma, and multiple_of_sigma\n",
    "gauss_wf = ArbitraryWaveform(name='gauss_wf', func='gauss_fn', max_amp=0.25, sigma=1000, multiple_of_sigma=4)"
   ]
  },
  {
   "cell_type": "code",
   "execution_count": 19,
   "id": "needed-pepper",
   "metadata": {},
   "outputs": [],
   "source": [
    "# run this to get the samples\n",
    "# gauss_wf.get_samples()"
   ]
  },
  {
   "cell_type": "markdown",
   "id": "committed-craps",
   "metadata": {},
   "source": [
    "### Creating Pulses"
   ]
  },
  {
   "cell_type": "code",
   "execution_count": 19,
   "id": "palestinian-galaxy",
   "metadata": {},
   "outputs": [],
   "source": [
    "# a pulse has a name, length and is composed of waveforms\n",
    "# for our purposes, there are two waveforms - 'I' and 'Q'\n",
    "# additionally, measurement pulses have other properties such as integration weights (which depend on pulse length)\n",
    "# with the waveforms we have created above, let's define a Gaussian pulse\n",
    "gaussian_pulse_waveforms = {\n",
    "    'I': gauss_wf,\n",
    "    'Q': zero_wf\n",
    "}\n",
    "# do note that our gaussian pulse length must match the waveform length, if not QM throws an error\n",
    "gaussian_pulse = Pulse(name='gaussian_pulse', length=len(gauss_wf.get_samples()), waveforms=gaussian_pulse_waveforms)"
   ]
  },
  {
   "cell_type": "code",
   "execution_count": 20,
   "id": "breeding-equipment",
   "metadata": {},
   "outputs": [],
   "source": [
    "# let's define a constant waveform with amp=0.32 and use it to create a readout pulse\n",
    "const_wf = ConstantWaveform(name='const_wf', amp=0.32)\n",
    "\n",
    "readout_pulse_waveforms = {\n",
    "    'I': const_wf, \n",
    "    'Q': zero_wf\n",
    "}\n",
    "readout_pulse = MeasurementPulse(name='readout_pulse', length=800, waveforms=readout_pulse_waveforms)"
   ]
  },
  {
   "cell_type": "code",
   "execution_count": 21,
   "id": "native-vermont",
   "metadata": {},
   "outputs": [],
   "source": [
    "# for measurement pulses, we can get integration weights by calling the following:\n",
    "#readout_pulse.integration_weights"
   ]
  },
  {
   "cell_type": "markdown",
   "id": "synthetic-superior",
   "metadata": {},
   "source": [
    "### Assigning Pulses as operations to QuantumElements"
   ]
  },
  {
   "cell_type": "code",
   "execution_count": 22,
   "id": "thirty-singles",
   "metadata": {},
   "outputs": [],
   "source": [
    "# please visit the tutorial on cqed_components where we cover this point"
   ]
  },
  {
   "cell_type": "markdown",
   "id": "chinese-communication",
   "metadata": {},
   "source": [
    "### Creating additional custom waveforms"
   ]
  },
  {
   "cell_type": "markdown",
   "id": "diverse-slovenia",
   "metadata": {},
   "source": [
    "- ah, so now you wanna make your own waveform generating function, here's the steps to do it\n",
    "- we won't actually do it because it will take up too much (and because pulselib is still under development...)"
   ]
  },
  {
   "cell_type": "markdown",
   "id": "twelve-recommendation",
   "metadata": {},
   "source": [
    "1. Go to the `pulselib.py` (its under `utils` in `qcore`) script\n",
    "2. Define your custom function in the 'waveform generator functions' section of the script\n",
    "3. Remember the name and number of arguments you defined your function to accept\n",
    "3. Register your function in the func_map with key = `string name of function` and value = function\n",
    "4. Create an arbitrary waveform, pass the `string name of function` in its `func` argument and any additional parameters which will be passed to the custom function you defined."
   ]
  },
  {
   "cell_type": "code",
   "execution_count": null,
   "id": "related-kruger",
   "metadata": {},
   "outputs": [],
   "source": []
  }
 ],
 "metadata": {
  "kernelspec": {
   "display_name": "Python 3",
   "language": "python",
   "name": "python3"
  },
  "language_info": {
   "codemirror_mode": {
    "name": "ipython",
    "version": 3
   },
   "file_extension": ".py",
   "mimetype": "text/x-python",
   "name": "python",
   "nbconvert_exporter": "python",
   "pygments_lexer": "ipython3",
   "version": "3.9.2"
  }
 },
 "nbformat": 4,
 "nbformat_minor": 5
}
