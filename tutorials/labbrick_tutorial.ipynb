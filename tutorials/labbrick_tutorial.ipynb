{
 "cells": [
  {
   "cell_type": "code",
   "execution_count": 1,
   "id": "retained-secret",
   "metadata": {},
   "outputs": [],
   "source": [
    "# use the cell below to ensure correct relative imports\n",
    "# you must be in the qcore directory"
   ]
  },
  {
   "cell_type": "code",
   "execution_count": 2,
   "id": "94f2fabf",
   "metadata": {},
   "outputs": [
    {
     "name": "stdout",
     "output_type": "stream",
     "text": [
      "C:\\Users\\qcrew\\Desktop\\qcrew\\qcore\n"
     ]
    }
   ],
   "source": [
    "cd ../qcore"
   ]
  },
  {
   "cell_type": "markdown",
   "id": "2fbf12e1",
   "metadata": {},
   "source": [
    "### Proto-user guide for interacting with the LabBrick in qcore\n",
    "\n",
    "- Each cell has comments that tell you how to use the labbrick driver. Use this notebook until we come up with a better user guide..."
   ]
  },
  {
   "cell_type": "code",
   "execution_count": 16,
   "id": "dea7868e",
   "metadata": {},
   "outputs": [],
   "source": [
    "# import labbrick driver\n",
    "\n",
    "from instruments import LabBrick"
   ]
  },
  {
   "cell_type": "code",
   "execution_count": 17,
   "id": "fb7f38f8",
   "metadata": {},
   "outputs": [
    {
     "name": "stdout",
     "output_type": "stream",
     "text": [
      "Trying to initialize lb\n",
      "Connnected to LabBrick 25331\n",
      "Setting initial parameters...\n",
      "Successfully set frequency to 5.0000000E+09\n",
      "Successfully set power to +13\n",
      "LabBrick is ready to use.\n"
     ]
    }
   ],
   "source": [
    "# instantiation\n",
    "# all four args to __init__() are compulsory\n",
    "\n",
    "lb = LabBrick(name='lb', serial_number=25331, frequency=5e9, power=13)"
   ]
  },
  {
   "cell_type": "code",
   "execution_count": 18,
   "id": "33daef8c",
   "metadata": {},
   "outputs": [],
   "source": [
    "# trying to instantiate a labbrick that is not connected to this PC\n",
    "\n",
    "# running this will result in a RuntimeError\n",
    "#lb_does_not_exist = LabBrick(name='lb_dne', serial_number=2, frequency=5e9, power=13)"
   ]
  },
  {
   "cell_type": "code",
   "execution_count": 19,
   "id": "945f4526",
   "metadata": {},
   "outputs": [
    {
     "data": {
      "text/plain": [
       "{'frequency': '5.0000000E+09', 'power': 13}"
      ]
     },
     "execution_count": 19,
     "metadata": {},
     "output_type": "execute_result"
    }
   ],
   "source": [
    "# access the lab brick's current parameters\n",
    "\n",
    "lb.parameters"
   ]
  },
  {
   "cell_type": "code",
   "execution_count": 20,
   "id": "316b99ce",
   "metadata": {},
   "outputs": [
    {
     "name": "stdout",
     "output_type": "stream",
     "text": [
      "Current freq is 5.0000000E+09\n"
     ]
    },
    {
     "data": {
      "text/plain": [
       "5000000000.0"
      ]
     },
     "execution_count": 20,
     "metadata": {},
     "output_type": "execute_result"
    }
   ],
   "source": [
    "# alternatively, you can get the parameters one by one\n",
    "\n",
    "lb.frequency\n",
    "#lb.power"
   ]
  },
  {
   "cell_type": "code",
   "execution_count": 21,
   "id": "d0e92e0c",
   "metadata": {},
   "outputs": [
    {
     "name": "stdout",
     "output_type": "stream",
     "text": [
      "Successfully set frequency to 6.0000000E+09\n",
      "Successfully set power to +15\n"
     ]
    }
   ],
   "source": [
    "# set a frequency and power\n",
    "\n",
    "lb.frequency = 6e9\n",
    "lb.power = 15"
   ]
  },
  {
   "cell_type": "code",
   "execution_count": 22,
   "id": "614dddae",
   "metadata": {},
   "outputs": [
    {
     "data": {
      "text/plain": [
       "{'frequency': '6.0000000E+09', 'power': 15}"
      ]
     },
     "execution_count": 22,
     "metadata": {},
     "output_type": "execute_result"
    }
   ],
   "source": [
    "# get updated parameters\n",
    "\n",
    "lb.parameters"
   ]
  },
  {
   "cell_type": "code",
   "execution_count": 23,
   "id": "01c78e0d",
   "metadata": {},
   "outputs": [
    {
     "name": "stdout",
     "output_type": "stream",
     "text": [
      "Failed to set frequency - out of bounds\n",
      "Failed to set power - out of bounds\n"
     ]
    }
   ],
   "source": [
    "# try to set out of bounds frequency and power\n",
    "\n",
    "lb.frequency = 9e9\n",
    "lb.power = 400"
   ]
  },
  {
   "cell_type": "code",
   "execution_count": 25,
   "id": "cd1995aa",
   "metadata": {},
   "outputs": [
    {
     "name": "stdout",
     "output_type": "stream",
     "text": [
      "lb disconnected!\n"
     ]
    }
   ],
   "source": [
    "# disconnect labbrick\n",
    "\n",
    "lb.disconnect()"
   ]
  },
  {
   "cell_type": "code",
   "execution_count": 11,
   "id": "f188950c",
   "metadata": {},
   "outputs": [],
   "source": [
    "# try to use the labbrick after disconnection\n",
    "\n",
    "# running this will give you a runtime error\n",
    "#lb.parameters"
   ]
  },
  {
   "cell_type": "code",
   "execution_count": null,
   "id": "1e4e3f74",
   "metadata": {},
   "outputs": [],
   "source": []
  }
 ],
 "metadata": {
  "kernelspec": {
   "display_name": "Python 3",
   "language": "python",
   "name": "python3"
  },
  "language_info": {
   "codemirror_mode": {
    "name": "ipython",
    "version": 3
   },
   "file_extension": ".py",
   "mimetype": "text/x-python",
   "name": "python",
   "nbconvert_exporter": "python",
   "pygments_lexer": "ipython3",
   "version": "3.9.2"
  }
 },
 "nbformat": 4,
 "nbformat_minor": 5
}
